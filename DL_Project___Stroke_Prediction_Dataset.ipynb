{
  "nbformat": 4,
  "nbformat_minor": 0,
  "metadata": {
    "colab": {
      "provenance": [],
      "include_colab_link": true
    },
    "kernelspec": {
      "name": "python3",
      "display_name": "Python 3"
    },
    "language_info": {
      "name": "python"
    }
  },
  "cells": [
    {
      "cell_type": "markdown",
      "metadata": {
        "id": "view-in-github",
        "colab_type": "text"
      },
      "source": [
        "<a href=\"https://colab.research.google.com/github/triber7777/python-random-quote/blob/master/DL_Project___Stroke_Prediction_Dataset.ipynb\" target=\"_parent\"><img src=\"https://colab.research.google.com/assets/colab-badge.svg\" alt=\"Open In Colab\"/></a>"
      ]
    },
    {
      "cell_type": "code",
      "execution_count": 1,
      "metadata": {
        "id": "MBYsH_EbzW_a"
      },
      "outputs": [],
      "source": [
        "import pandas as pd\n",
        "import numpy as np\n",
        "import seaborn as sns\n",
        "import matplotlib.pyplot as plt\n",
        "import warnings\n",
        "warnings.filterwarnings('ignore')"
      ]
    },
    {
      "cell_type": "markdown",
      "source": [
        "Information on dataset: The dataset contains records from both ischemic and hemorrhagic strokes. The criteria used to define a stroke was that a stroke occurs when a blood vessel that carries oxygen and nutrients to the brain is either blocked (ischemic) by a clot or bursts (hemorrhagic)."
      ],
      "metadata": {
        "id": "pi1lBZyA1C7i"
      }
    },
    {
      "cell_type": "code",
      "source": [
        "#now import data set\n",
        "df=pd.read_csv('healthcare_stroke_data.csv')\n",
        "df"
      ],
      "metadata": {
        "colab": {
          "base_uri": "https://localhost:8080/",
          "height": 551
        },
        "id": "3UHsEPFIznxY",
        "outputId": "429b6dc3-2d26-4833-a4d9-3b40304d70ed"
      },
      "execution_count": 2,
      "outputs": [
        {
          "output_type": "execute_result",
          "data": {
            "text/plain": [
              "         id  gender   age  hypertension  heart_disease ever_married  \\\n",
              "0      9046    Male  67.0             0              1          Yes   \n",
              "1     51676  Female  61.0             0              0          Yes   \n",
              "2     31112    Male  80.0             0              1          Yes   \n",
              "3     60182  Female  49.0             0              0          Yes   \n",
              "4      1665  Female  79.0             1              0          Yes   \n",
              "...     ...     ...   ...           ...            ...          ...   \n",
              "5105  18234  Female  80.0             1              0          Yes   \n",
              "5106  44873  Female  81.0             0              0          Yes   \n",
              "5107  19723  Female  35.0             0              0          Yes   \n",
              "5108  37544    Male  51.0             0              0          Yes   \n",
              "5109  44679  Female  44.0             0              0          Yes   \n",
              "\n",
              "          work_type Residence_type  avg_glucose_level   bmi   smoking_status  \\\n",
              "0           Private          Urban             228.69  36.6  formerly smoked   \n",
              "1     Self-employed          Rural             202.21   NaN     never smoked   \n",
              "2           Private          Rural             105.92  32.5     never smoked   \n",
              "3           Private          Urban             171.23  34.4           smokes   \n",
              "4     Self-employed          Rural             174.12  24.0     never smoked   \n",
              "...             ...            ...                ...   ...              ...   \n",
              "5105        Private          Urban              83.75   NaN     never smoked   \n",
              "5106  Self-employed          Urban             125.20  40.0     never smoked   \n",
              "5107  Self-employed          Rural              82.99  30.6     never smoked   \n",
              "5108        Private          Rural             166.29  25.6  formerly smoked   \n",
              "5109       Govt_job          Urban              85.28  26.2          Unknown   \n",
              "\n",
              "      stroke  \n",
              "0          1  \n",
              "1          1  \n",
              "2          1  \n",
              "3          1  \n",
              "4          1  \n",
              "...      ...  \n",
              "5105       0  \n",
              "5106       0  \n",
              "5107       0  \n",
              "5108       0  \n",
              "5109       0  \n",
              "\n",
              "[5110 rows x 12 columns]"
            ],
            "text/html": [
              "\n",
              "  <div id=\"df-b374f75b-a9b0-4fb4-baee-573293e20445\">\n",
              "    <div class=\"colab-df-container\">\n",
              "      <div>\n",
              "<style scoped>\n",
              "    .dataframe tbody tr th:only-of-type {\n",
              "        vertical-align: middle;\n",
              "    }\n",
              "\n",
              "    .dataframe tbody tr th {\n",
              "        vertical-align: top;\n",
              "    }\n",
              "\n",
              "    .dataframe thead th {\n",
              "        text-align: right;\n",
              "    }\n",
              "</style>\n",
              "<table border=\"1\" class=\"dataframe\">\n",
              "  <thead>\n",
              "    <tr style=\"text-align: right;\">\n",
              "      <th></th>\n",
              "      <th>id</th>\n",
              "      <th>gender</th>\n",
              "      <th>age</th>\n",
              "      <th>hypertension</th>\n",
              "      <th>heart_disease</th>\n",
              "      <th>ever_married</th>\n",
              "      <th>work_type</th>\n",
              "      <th>Residence_type</th>\n",
              "      <th>avg_glucose_level</th>\n",
              "      <th>bmi</th>\n",
              "      <th>smoking_status</th>\n",
              "      <th>stroke</th>\n",
              "    </tr>\n",
              "  </thead>\n",
              "  <tbody>\n",
              "    <tr>\n",
              "      <th>0</th>\n",
              "      <td>9046</td>\n",
              "      <td>Male</td>\n",
              "      <td>67.0</td>\n",
              "      <td>0</td>\n",
              "      <td>1</td>\n",
              "      <td>Yes</td>\n",
              "      <td>Private</td>\n",
              "      <td>Urban</td>\n",
              "      <td>228.69</td>\n",
              "      <td>36.6</td>\n",
              "      <td>formerly smoked</td>\n",
              "      <td>1</td>\n",
              "    </tr>\n",
              "    <tr>\n",
              "      <th>1</th>\n",
              "      <td>51676</td>\n",
              "      <td>Female</td>\n",
              "      <td>61.0</td>\n",
              "      <td>0</td>\n",
              "      <td>0</td>\n",
              "      <td>Yes</td>\n",
              "      <td>Self-employed</td>\n",
              "      <td>Rural</td>\n",
              "      <td>202.21</td>\n",
              "      <td>NaN</td>\n",
              "      <td>never smoked</td>\n",
              "      <td>1</td>\n",
              "    </tr>\n",
              "    <tr>\n",
              "      <th>2</th>\n",
              "      <td>31112</td>\n",
              "      <td>Male</td>\n",
              "      <td>80.0</td>\n",
              "      <td>0</td>\n",
              "      <td>1</td>\n",
              "      <td>Yes</td>\n",
              "      <td>Private</td>\n",
              "      <td>Rural</td>\n",
              "      <td>105.92</td>\n",
              "      <td>32.5</td>\n",
              "      <td>never smoked</td>\n",
              "      <td>1</td>\n",
              "    </tr>\n",
              "    <tr>\n",
              "      <th>3</th>\n",
              "      <td>60182</td>\n",
              "      <td>Female</td>\n",
              "      <td>49.0</td>\n",
              "      <td>0</td>\n",
              "      <td>0</td>\n",
              "      <td>Yes</td>\n",
              "      <td>Private</td>\n",
              "      <td>Urban</td>\n",
              "      <td>171.23</td>\n",
              "      <td>34.4</td>\n",
              "      <td>smokes</td>\n",
              "      <td>1</td>\n",
              "    </tr>\n",
              "    <tr>\n",
              "      <th>4</th>\n",
              "      <td>1665</td>\n",
              "      <td>Female</td>\n",
              "      <td>79.0</td>\n",
              "      <td>1</td>\n",
              "      <td>0</td>\n",
              "      <td>Yes</td>\n",
              "      <td>Self-employed</td>\n",
              "      <td>Rural</td>\n",
              "      <td>174.12</td>\n",
              "      <td>24.0</td>\n",
              "      <td>never smoked</td>\n",
              "      <td>1</td>\n",
              "    </tr>\n",
              "    <tr>\n",
              "      <th>...</th>\n",
              "      <td>...</td>\n",
              "      <td>...</td>\n",
              "      <td>...</td>\n",
              "      <td>...</td>\n",
              "      <td>...</td>\n",
              "      <td>...</td>\n",
              "      <td>...</td>\n",
              "      <td>...</td>\n",
              "      <td>...</td>\n",
              "      <td>...</td>\n",
              "      <td>...</td>\n",
              "      <td>...</td>\n",
              "    </tr>\n",
              "    <tr>\n",
              "      <th>5105</th>\n",
              "      <td>18234</td>\n",
              "      <td>Female</td>\n",
              "      <td>80.0</td>\n",
              "      <td>1</td>\n",
              "      <td>0</td>\n",
              "      <td>Yes</td>\n",
              "      <td>Private</td>\n",
              "      <td>Urban</td>\n",
              "      <td>83.75</td>\n",
              "      <td>NaN</td>\n",
              "      <td>never smoked</td>\n",
              "      <td>0</td>\n",
              "    </tr>\n",
              "    <tr>\n",
              "      <th>5106</th>\n",
              "      <td>44873</td>\n",
              "      <td>Female</td>\n",
              "      <td>81.0</td>\n",
              "      <td>0</td>\n",
              "      <td>0</td>\n",
              "      <td>Yes</td>\n",
              "      <td>Self-employed</td>\n",
              "      <td>Urban</td>\n",
              "      <td>125.20</td>\n",
              "      <td>40.0</td>\n",
              "      <td>never smoked</td>\n",
              "      <td>0</td>\n",
              "    </tr>\n",
              "    <tr>\n",
              "      <th>5107</th>\n",
              "      <td>19723</td>\n",
              "      <td>Female</td>\n",
              "      <td>35.0</td>\n",
              "      <td>0</td>\n",
              "      <td>0</td>\n",
              "      <td>Yes</td>\n",
              "      <td>Self-employed</td>\n",
              "      <td>Rural</td>\n",
              "      <td>82.99</td>\n",
              "      <td>30.6</td>\n",
              "      <td>never smoked</td>\n",
              "      <td>0</td>\n",
              "    </tr>\n",
              "    <tr>\n",
              "      <th>5108</th>\n",
              "      <td>37544</td>\n",
              "      <td>Male</td>\n",
              "      <td>51.0</td>\n",
              "      <td>0</td>\n",
              "      <td>0</td>\n",
              "      <td>Yes</td>\n",
              "      <td>Private</td>\n",
              "      <td>Rural</td>\n",
              "      <td>166.29</td>\n",
              "      <td>25.6</td>\n",
              "      <td>formerly smoked</td>\n",
              "      <td>0</td>\n",
              "    </tr>\n",
              "    <tr>\n",
              "      <th>5109</th>\n",
              "      <td>44679</td>\n",
              "      <td>Female</td>\n",
              "      <td>44.0</td>\n",
              "      <td>0</td>\n",
              "      <td>0</td>\n",
              "      <td>Yes</td>\n",
              "      <td>Govt_job</td>\n",
              "      <td>Urban</td>\n",
              "      <td>85.28</td>\n",
              "      <td>26.2</td>\n",
              "      <td>Unknown</td>\n",
              "      <td>0</td>\n",
              "    </tr>\n",
              "  </tbody>\n",
              "</table>\n",
              "<p>5110 rows × 12 columns</p>\n",
              "</div>\n",
              "      <button class=\"colab-df-convert\" onclick=\"convertToInteractive('df-b374f75b-a9b0-4fb4-baee-573293e20445')\"\n",
              "              title=\"Convert this dataframe to an interactive table.\"\n",
              "              style=\"display:none;\">\n",
              "        \n",
              "  <svg xmlns=\"http://www.w3.org/2000/svg\" height=\"24px\"viewBox=\"0 0 24 24\"\n",
              "       width=\"24px\">\n",
              "    <path d=\"M0 0h24v24H0V0z\" fill=\"none\"/>\n",
              "    <path d=\"M18.56 5.44l.94 2.06.94-2.06 2.06-.94-2.06-.94-.94-2.06-.94 2.06-2.06.94zm-11 1L8.5 8.5l.94-2.06 2.06-.94-2.06-.94L8.5 2.5l-.94 2.06-2.06.94zm10 10l.94 2.06.94-2.06 2.06-.94-2.06-.94-.94-2.06-.94 2.06-2.06.94z\"/><path d=\"M17.41 7.96l-1.37-1.37c-.4-.4-.92-.59-1.43-.59-.52 0-1.04.2-1.43.59L10.3 9.45l-7.72 7.72c-.78.78-.78 2.05 0 2.83L4 21.41c.39.39.9.59 1.41.59.51 0 1.02-.2 1.41-.59l7.78-7.78 2.81-2.81c.8-.78.8-2.07 0-2.86zM5.41 20L4 18.59l7.72-7.72 1.47 1.35L5.41 20z\"/>\n",
              "  </svg>\n",
              "      </button>\n",
              "      \n",
              "  <style>\n",
              "    .colab-df-container {\n",
              "      display:flex;\n",
              "      flex-wrap:wrap;\n",
              "      gap: 12px;\n",
              "    }\n",
              "\n",
              "    .colab-df-convert {\n",
              "      background-color: #E8F0FE;\n",
              "      border: none;\n",
              "      border-radius: 50%;\n",
              "      cursor: pointer;\n",
              "      display: none;\n",
              "      fill: #1967D2;\n",
              "      height: 32px;\n",
              "      padding: 0 0 0 0;\n",
              "      width: 32px;\n",
              "    }\n",
              "\n",
              "    .colab-df-convert:hover {\n",
              "      background-color: #E2EBFA;\n",
              "      box-shadow: 0px 1px 2px rgba(60, 64, 67, 0.3), 0px 1px 3px 1px rgba(60, 64, 67, 0.15);\n",
              "      fill: #174EA6;\n",
              "    }\n",
              "\n",
              "    [theme=dark] .colab-df-convert {\n",
              "      background-color: #3B4455;\n",
              "      fill: #D2E3FC;\n",
              "    }\n",
              "\n",
              "    [theme=dark] .colab-df-convert:hover {\n",
              "      background-color: #434B5C;\n",
              "      box-shadow: 0px 1px 3px 1px rgba(0, 0, 0, 0.15);\n",
              "      filter: drop-shadow(0px 1px 2px rgba(0, 0, 0, 0.3));\n",
              "      fill: #FFFFFF;\n",
              "    }\n",
              "  </style>\n",
              "\n",
              "      <script>\n",
              "        const buttonEl =\n",
              "          document.querySelector('#df-b374f75b-a9b0-4fb4-baee-573293e20445 button.colab-df-convert');\n",
              "        buttonEl.style.display =\n",
              "          google.colab.kernel.accessAllowed ? 'block' : 'none';\n",
              "\n",
              "        async function convertToInteractive(key) {\n",
              "          const element = document.querySelector('#df-b374f75b-a9b0-4fb4-baee-573293e20445');\n",
              "          const dataTable =\n",
              "            await google.colab.kernel.invokeFunction('convertToInteractive',\n",
              "                                                     [key], {});\n",
              "          if (!dataTable) return;\n",
              "\n",
              "          const docLinkHtml = 'Like what you see? Visit the ' +\n",
              "            '<a target=\"_blank\" href=https://colab.research.google.com/notebooks/data_table.ipynb>data table notebook</a>'\n",
              "            + ' to learn more about interactive tables.';\n",
              "          element.innerHTML = '';\n",
              "          dataTable['output_type'] = 'display_data';\n",
              "          await google.colab.output.renderOutput(dataTable, element);\n",
              "          const docLink = document.createElement('div');\n",
              "          docLink.innerHTML = docLinkHtml;\n",
              "          element.appendChild(docLink);\n",
              "        }\n",
              "      </script>\n",
              "    </div>\n",
              "  </div>\n",
              "  "
            ]
          },
          "metadata": {},
          "execution_count": 2
        }
      ]
    },
    {
      "cell_type": "code",
      "source": [
        "df.head(5)"
      ],
      "metadata": {
        "colab": {
          "base_uri": "https://localhost:8080/",
          "height": 302
        },
        "id": "LCDyeJC2zsNB",
        "outputId": "cf7227d2-b1b3-4893-daa8-4f5b180cf36c"
      },
      "execution_count": 3,
      "outputs": [
        {
          "output_type": "execute_result",
          "data": {
            "text/plain": [
              "      id  gender   age  hypertension  heart_disease ever_married  \\\n",
              "0   9046    Male  67.0             0              1          Yes   \n",
              "1  51676  Female  61.0             0              0          Yes   \n",
              "2  31112    Male  80.0             0              1          Yes   \n",
              "3  60182  Female  49.0             0              0          Yes   \n",
              "4   1665  Female  79.0             1              0          Yes   \n",
              "\n",
              "       work_type Residence_type  avg_glucose_level   bmi   smoking_status  \\\n",
              "0        Private          Urban             228.69  36.6  formerly smoked   \n",
              "1  Self-employed          Rural             202.21   NaN     never smoked   \n",
              "2        Private          Rural             105.92  32.5     never smoked   \n",
              "3        Private          Urban             171.23  34.4           smokes   \n",
              "4  Self-employed          Rural             174.12  24.0     never smoked   \n",
              "\n",
              "   stroke  \n",
              "0       1  \n",
              "1       1  \n",
              "2       1  \n",
              "3       1  \n",
              "4       1  "
            ],
            "text/html": [
              "\n",
              "  <div id=\"df-45dff016-fefb-4d8b-8c85-3f8c081b9f51\">\n",
              "    <div class=\"colab-df-container\">\n",
              "      <div>\n",
              "<style scoped>\n",
              "    .dataframe tbody tr th:only-of-type {\n",
              "        vertical-align: middle;\n",
              "    }\n",
              "\n",
              "    .dataframe tbody tr th {\n",
              "        vertical-align: top;\n",
              "    }\n",
              "\n",
              "    .dataframe thead th {\n",
              "        text-align: right;\n",
              "    }\n",
              "</style>\n",
              "<table border=\"1\" class=\"dataframe\">\n",
              "  <thead>\n",
              "    <tr style=\"text-align: right;\">\n",
              "      <th></th>\n",
              "      <th>id</th>\n",
              "      <th>gender</th>\n",
              "      <th>age</th>\n",
              "      <th>hypertension</th>\n",
              "      <th>heart_disease</th>\n",
              "      <th>ever_married</th>\n",
              "      <th>work_type</th>\n",
              "      <th>Residence_type</th>\n",
              "      <th>avg_glucose_level</th>\n",
              "      <th>bmi</th>\n",
              "      <th>smoking_status</th>\n",
              "      <th>stroke</th>\n",
              "    </tr>\n",
              "  </thead>\n",
              "  <tbody>\n",
              "    <tr>\n",
              "      <th>0</th>\n",
              "      <td>9046</td>\n",
              "      <td>Male</td>\n",
              "      <td>67.0</td>\n",
              "      <td>0</td>\n",
              "      <td>1</td>\n",
              "      <td>Yes</td>\n",
              "      <td>Private</td>\n",
              "      <td>Urban</td>\n",
              "      <td>228.69</td>\n",
              "      <td>36.6</td>\n",
              "      <td>formerly smoked</td>\n",
              "      <td>1</td>\n",
              "    </tr>\n",
              "    <tr>\n",
              "      <th>1</th>\n",
              "      <td>51676</td>\n",
              "      <td>Female</td>\n",
              "      <td>61.0</td>\n",
              "      <td>0</td>\n",
              "      <td>0</td>\n",
              "      <td>Yes</td>\n",
              "      <td>Self-employed</td>\n",
              "      <td>Rural</td>\n",
              "      <td>202.21</td>\n",
              "      <td>NaN</td>\n",
              "      <td>never smoked</td>\n",
              "      <td>1</td>\n",
              "    </tr>\n",
              "    <tr>\n",
              "      <th>2</th>\n",
              "      <td>31112</td>\n",
              "      <td>Male</td>\n",
              "      <td>80.0</td>\n",
              "      <td>0</td>\n",
              "      <td>1</td>\n",
              "      <td>Yes</td>\n",
              "      <td>Private</td>\n",
              "      <td>Rural</td>\n",
              "      <td>105.92</td>\n",
              "      <td>32.5</td>\n",
              "      <td>never smoked</td>\n",
              "      <td>1</td>\n",
              "    </tr>\n",
              "    <tr>\n",
              "      <th>3</th>\n",
              "      <td>60182</td>\n",
              "      <td>Female</td>\n",
              "      <td>49.0</td>\n",
              "      <td>0</td>\n",
              "      <td>0</td>\n",
              "      <td>Yes</td>\n",
              "      <td>Private</td>\n",
              "      <td>Urban</td>\n",
              "      <td>171.23</td>\n",
              "      <td>34.4</td>\n",
              "      <td>smokes</td>\n",
              "      <td>1</td>\n",
              "    </tr>\n",
              "    <tr>\n",
              "      <th>4</th>\n",
              "      <td>1665</td>\n",
              "      <td>Female</td>\n",
              "      <td>79.0</td>\n",
              "      <td>1</td>\n",
              "      <td>0</td>\n",
              "      <td>Yes</td>\n",
              "      <td>Self-employed</td>\n",
              "      <td>Rural</td>\n",
              "      <td>174.12</td>\n",
              "      <td>24.0</td>\n",
              "      <td>never smoked</td>\n",
              "      <td>1</td>\n",
              "    </tr>\n",
              "  </tbody>\n",
              "</table>\n",
              "</div>\n",
              "      <button class=\"colab-df-convert\" onclick=\"convertToInteractive('df-45dff016-fefb-4d8b-8c85-3f8c081b9f51')\"\n",
              "              title=\"Convert this dataframe to an interactive table.\"\n",
              "              style=\"display:none;\">\n",
              "        \n",
              "  <svg xmlns=\"http://www.w3.org/2000/svg\" height=\"24px\"viewBox=\"0 0 24 24\"\n",
              "       width=\"24px\">\n",
              "    <path d=\"M0 0h24v24H0V0z\" fill=\"none\"/>\n",
              "    <path d=\"M18.56 5.44l.94 2.06.94-2.06 2.06-.94-2.06-.94-.94-2.06-.94 2.06-2.06.94zm-11 1L8.5 8.5l.94-2.06 2.06-.94-2.06-.94L8.5 2.5l-.94 2.06-2.06.94zm10 10l.94 2.06.94-2.06 2.06-.94-2.06-.94-.94-2.06-.94 2.06-2.06.94z\"/><path d=\"M17.41 7.96l-1.37-1.37c-.4-.4-.92-.59-1.43-.59-.52 0-1.04.2-1.43.59L10.3 9.45l-7.72 7.72c-.78.78-.78 2.05 0 2.83L4 21.41c.39.39.9.59 1.41.59.51 0 1.02-.2 1.41-.59l7.78-7.78 2.81-2.81c.8-.78.8-2.07 0-2.86zM5.41 20L4 18.59l7.72-7.72 1.47 1.35L5.41 20z\"/>\n",
              "  </svg>\n",
              "      </button>\n",
              "      \n",
              "  <style>\n",
              "    .colab-df-container {\n",
              "      display:flex;\n",
              "      flex-wrap:wrap;\n",
              "      gap: 12px;\n",
              "    }\n",
              "\n",
              "    .colab-df-convert {\n",
              "      background-color: #E8F0FE;\n",
              "      border: none;\n",
              "      border-radius: 50%;\n",
              "      cursor: pointer;\n",
              "      display: none;\n",
              "      fill: #1967D2;\n",
              "      height: 32px;\n",
              "      padding: 0 0 0 0;\n",
              "      width: 32px;\n",
              "    }\n",
              "\n",
              "    .colab-df-convert:hover {\n",
              "      background-color: #E2EBFA;\n",
              "      box-shadow: 0px 1px 2px rgba(60, 64, 67, 0.3), 0px 1px 3px 1px rgba(60, 64, 67, 0.15);\n",
              "      fill: #174EA6;\n",
              "    }\n",
              "\n",
              "    [theme=dark] .colab-df-convert {\n",
              "      background-color: #3B4455;\n",
              "      fill: #D2E3FC;\n",
              "    }\n",
              "\n",
              "    [theme=dark] .colab-df-convert:hover {\n",
              "      background-color: #434B5C;\n",
              "      box-shadow: 0px 1px 3px 1px rgba(0, 0, 0, 0.15);\n",
              "      filter: drop-shadow(0px 1px 2px rgba(0, 0, 0, 0.3));\n",
              "      fill: #FFFFFF;\n",
              "    }\n",
              "  </style>\n",
              "\n",
              "      <script>\n",
              "        const buttonEl =\n",
              "          document.querySelector('#df-45dff016-fefb-4d8b-8c85-3f8c081b9f51 button.colab-df-convert');\n",
              "        buttonEl.style.display =\n",
              "          google.colab.kernel.accessAllowed ? 'block' : 'none';\n",
              "\n",
              "        async function convertToInteractive(key) {\n",
              "          const element = document.querySelector('#df-45dff016-fefb-4d8b-8c85-3f8c081b9f51');\n",
              "          const dataTable =\n",
              "            await google.colab.kernel.invokeFunction('convertToInteractive',\n",
              "                                                     [key], {});\n",
              "          if (!dataTable) return;\n",
              "\n",
              "          const docLinkHtml = 'Like what you see? Visit the ' +\n",
              "            '<a target=\"_blank\" href=https://colab.research.google.com/notebooks/data_table.ipynb>data table notebook</a>'\n",
              "            + ' to learn more about interactive tables.';\n",
              "          element.innerHTML = '';\n",
              "          dataTable['output_type'] = 'display_data';\n",
              "          await google.colab.output.renderOutput(dataTable, element);\n",
              "          const docLink = document.createElement('div');\n",
              "          docLink.innerHTML = docLinkHtml;\n",
              "          element.appendChild(docLink);\n",
              "        }\n",
              "      </script>\n",
              "    </div>\n",
              "  </div>\n",
              "  "
            ]
          },
          "metadata": {},
          "execution_count": 3
        }
      ]
    },
    {
      "cell_type": "code",
      "source": [
        "#check null value\n",
        "df.isnull().sum()"
      ],
      "metadata": {
        "colab": {
          "base_uri": "https://localhost:8080/"
        },
        "id": "greQtyyjzuT9",
        "outputId": "d8234d7d-d0b1-40f7-d75c-5d753e667b2f"
      },
      "execution_count": 4,
      "outputs": [
        {
          "output_type": "execute_result",
          "data": {
            "text/plain": [
              "id                     0\n",
              "gender                 0\n",
              "age                    0\n",
              "hypertension           0\n",
              "heart_disease          0\n",
              "ever_married           0\n",
              "work_type              0\n",
              "Residence_type         0\n",
              "avg_glucose_level      0\n",
              "bmi                  201\n",
              "smoking_status         0\n",
              "stroke                 0\n",
              "dtype: int64"
            ]
          },
          "metadata": {},
          "execution_count": 4
        }
      ]
    },
    {
      "cell_type": "code",
      "source": [
        "#check duplicates\n",
        "df.duplicated().sum()"
      ],
      "metadata": {
        "colab": {
          "base_uri": "https://localhost:8080/"
        },
        "id": "66ld_DwdzwTc",
        "outputId": "eec67e0a-d6ca-44bb-b1c1-152b93f6ad7d"
      },
      "execution_count": 5,
      "outputs": [
        {
          "output_type": "execute_result",
          "data": {
            "text/plain": [
              "0"
            ]
          },
          "metadata": {},
          "execution_count": 5
        }
      ]
    },
    {
      "cell_type": "code",
      "source": [
        "df.head(5)"
      ],
      "metadata": {
        "colab": {
          "base_uri": "https://localhost:8080/",
          "height": 302
        },
        "id": "PZ7uSol_zzNz",
        "outputId": "d16e00cf-7954-4492-804b-aa470c0c4b06"
      },
      "execution_count": 6,
      "outputs": [
        {
          "output_type": "execute_result",
          "data": {
            "text/plain": [
              "      id  gender   age  hypertension  heart_disease ever_married  \\\n",
              "0   9046    Male  67.0             0              1          Yes   \n",
              "1  51676  Female  61.0             0              0          Yes   \n",
              "2  31112    Male  80.0             0              1          Yes   \n",
              "3  60182  Female  49.0             0              0          Yes   \n",
              "4   1665  Female  79.0             1              0          Yes   \n",
              "\n",
              "       work_type Residence_type  avg_glucose_level   bmi   smoking_status  \\\n",
              "0        Private          Urban             228.69  36.6  formerly smoked   \n",
              "1  Self-employed          Rural             202.21   NaN     never smoked   \n",
              "2        Private          Rural             105.92  32.5     never smoked   \n",
              "3        Private          Urban             171.23  34.4           smokes   \n",
              "4  Self-employed          Rural             174.12  24.0     never smoked   \n",
              "\n",
              "   stroke  \n",
              "0       1  \n",
              "1       1  \n",
              "2       1  \n",
              "3       1  \n",
              "4       1  "
            ],
            "text/html": [
              "\n",
              "  <div id=\"df-1fd2a666-eb2e-488d-b9fd-e0e8351cabc2\">\n",
              "    <div class=\"colab-df-container\">\n",
              "      <div>\n",
              "<style scoped>\n",
              "    .dataframe tbody tr th:only-of-type {\n",
              "        vertical-align: middle;\n",
              "    }\n",
              "\n",
              "    .dataframe tbody tr th {\n",
              "        vertical-align: top;\n",
              "    }\n",
              "\n",
              "    .dataframe thead th {\n",
              "        text-align: right;\n",
              "    }\n",
              "</style>\n",
              "<table border=\"1\" class=\"dataframe\">\n",
              "  <thead>\n",
              "    <tr style=\"text-align: right;\">\n",
              "      <th></th>\n",
              "      <th>id</th>\n",
              "      <th>gender</th>\n",
              "      <th>age</th>\n",
              "      <th>hypertension</th>\n",
              "      <th>heart_disease</th>\n",
              "      <th>ever_married</th>\n",
              "      <th>work_type</th>\n",
              "      <th>Residence_type</th>\n",
              "      <th>avg_glucose_level</th>\n",
              "      <th>bmi</th>\n",
              "      <th>smoking_status</th>\n",
              "      <th>stroke</th>\n",
              "    </tr>\n",
              "  </thead>\n",
              "  <tbody>\n",
              "    <tr>\n",
              "      <th>0</th>\n",
              "      <td>9046</td>\n",
              "      <td>Male</td>\n",
              "      <td>67.0</td>\n",
              "      <td>0</td>\n",
              "      <td>1</td>\n",
              "      <td>Yes</td>\n",
              "      <td>Private</td>\n",
              "      <td>Urban</td>\n",
              "      <td>228.69</td>\n",
              "      <td>36.6</td>\n",
              "      <td>formerly smoked</td>\n",
              "      <td>1</td>\n",
              "    </tr>\n",
              "    <tr>\n",
              "      <th>1</th>\n",
              "      <td>51676</td>\n",
              "      <td>Female</td>\n",
              "      <td>61.0</td>\n",
              "      <td>0</td>\n",
              "      <td>0</td>\n",
              "      <td>Yes</td>\n",
              "      <td>Self-employed</td>\n",
              "      <td>Rural</td>\n",
              "      <td>202.21</td>\n",
              "      <td>NaN</td>\n",
              "      <td>never smoked</td>\n",
              "      <td>1</td>\n",
              "    </tr>\n",
              "    <tr>\n",
              "      <th>2</th>\n",
              "      <td>31112</td>\n",
              "      <td>Male</td>\n",
              "      <td>80.0</td>\n",
              "      <td>0</td>\n",
              "      <td>1</td>\n",
              "      <td>Yes</td>\n",
              "      <td>Private</td>\n",
              "      <td>Rural</td>\n",
              "      <td>105.92</td>\n",
              "      <td>32.5</td>\n",
              "      <td>never smoked</td>\n",
              "      <td>1</td>\n",
              "    </tr>\n",
              "    <tr>\n",
              "      <th>3</th>\n",
              "      <td>60182</td>\n",
              "      <td>Female</td>\n",
              "      <td>49.0</td>\n",
              "      <td>0</td>\n",
              "      <td>0</td>\n",
              "      <td>Yes</td>\n",
              "      <td>Private</td>\n",
              "      <td>Urban</td>\n",
              "      <td>171.23</td>\n",
              "      <td>34.4</td>\n",
              "      <td>smokes</td>\n",
              "      <td>1</td>\n",
              "    </tr>\n",
              "    <tr>\n",
              "      <th>4</th>\n",
              "      <td>1665</td>\n",
              "      <td>Female</td>\n",
              "      <td>79.0</td>\n",
              "      <td>1</td>\n",
              "      <td>0</td>\n",
              "      <td>Yes</td>\n",
              "      <td>Self-employed</td>\n",
              "      <td>Rural</td>\n",
              "      <td>174.12</td>\n",
              "      <td>24.0</td>\n",
              "      <td>never smoked</td>\n",
              "      <td>1</td>\n",
              "    </tr>\n",
              "  </tbody>\n",
              "</table>\n",
              "</div>\n",
              "      <button class=\"colab-df-convert\" onclick=\"convertToInteractive('df-1fd2a666-eb2e-488d-b9fd-e0e8351cabc2')\"\n",
              "              title=\"Convert this dataframe to an interactive table.\"\n",
              "              style=\"display:none;\">\n",
              "        \n",
              "  <svg xmlns=\"http://www.w3.org/2000/svg\" height=\"24px\"viewBox=\"0 0 24 24\"\n",
              "       width=\"24px\">\n",
              "    <path d=\"M0 0h24v24H0V0z\" fill=\"none\"/>\n",
              "    <path d=\"M18.56 5.44l.94 2.06.94-2.06 2.06-.94-2.06-.94-.94-2.06-.94 2.06-2.06.94zm-11 1L8.5 8.5l.94-2.06 2.06-.94-2.06-.94L8.5 2.5l-.94 2.06-2.06.94zm10 10l.94 2.06.94-2.06 2.06-.94-2.06-.94-.94-2.06-.94 2.06-2.06.94z\"/><path d=\"M17.41 7.96l-1.37-1.37c-.4-.4-.92-.59-1.43-.59-.52 0-1.04.2-1.43.59L10.3 9.45l-7.72 7.72c-.78.78-.78 2.05 0 2.83L4 21.41c.39.39.9.59 1.41.59.51 0 1.02-.2 1.41-.59l7.78-7.78 2.81-2.81c.8-.78.8-2.07 0-2.86zM5.41 20L4 18.59l7.72-7.72 1.47 1.35L5.41 20z\"/>\n",
              "  </svg>\n",
              "      </button>\n",
              "      \n",
              "  <style>\n",
              "    .colab-df-container {\n",
              "      display:flex;\n",
              "      flex-wrap:wrap;\n",
              "      gap: 12px;\n",
              "    }\n",
              "\n",
              "    .colab-df-convert {\n",
              "      background-color: #E8F0FE;\n",
              "      border: none;\n",
              "      border-radius: 50%;\n",
              "      cursor: pointer;\n",
              "      display: none;\n",
              "      fill: #1967D2;\n",
              "      height: 32px;\n",
              "      padding: 0 0 0 0;\n",
              "      width: 32px;\n",
              "    }\n",
              "\n",
              "    .colab-df-convert:hover {\n",
              "      background-color: #E2EBFA;\n",
              "      box-shadow: 0px 1px 2px rgba(60, 64, 67, 0.3), 0px 1px 3px 1px rgba(60, 64, 67, 0.15);\n",
              "      fill: #174EA6;\n",
              "    }\n",
              "\n",
              "    [theme=dark] .colab-df-convert {\n",
              "      background-color: #3B4455;\n",
              "      fill: #D2E3FC;\n",
              "    }\n",
              "\n",
              "    [theme=dark] .colab-df-convert:hover {\n",
              "      background-color: #434B5C;\n",
              "      box-shadow: 0px 1px 3px 1px rgba(0, 0, 0, 0.15);\n",
              "      filter: drop-shadow(0px 1px 2px rgba(0, 0, 0, 0.3));\n",
              "      fill: #FFFFFF;\n",
              "    }\n",
              "  </style>\n",
              "\n",
              "      <script>\n",
              "        const buttonEl =\n",
              "          document.querySelector('#df-1fd2a666-eb2e-488d-b9fd-e0e8351cabc2 button.colab-df-convert');\n",
              "        buttonEl.style.display =\n",
              "          google.colab.kernel.accessAllowed ? 'block' : 'none';\n",
              "\n",
              "        async function convertToInteractive(key) {\n",
              "          const element = document.querySelector('#df-1fd2a666-eb2e-488d-b9fd-e0e8351cabc2');\n",
              "          const dataTable =\n",
              "            await google.colab.kernel.invokeFunction('convertToInteractive',\n",
              "                                                     [key], {});\n",
              "          if (!dataTable) return;\n",
              "\n",
              "          const docLinkHtml = 'Like what you see? Visit the ' +\n",
              "            '<a target=\"_blank\" href=https://colab.research.google.com/notebooks/data_table.ipynb>data table notebook</a>'\n",
              "            + ' to learn more about interactive tables.';\n",
              "          element.innerHTML = '';\n",
              "          dataTable['output_type'] = 'display_data';\n",
              "          await google.colab.output.renderOutput(dataTable, element);\n",
              "          const docLink = document.createElement('div');\n",
              "          docLink.innerHTML = docLinkHtml;\n",
              "          element.appendChild(docLink);\n",
              "        }\n",
              "      </script>\n",
              "    </div>\n",
              "  </div>\n",
              "  "
            ]
          },
          "metadata": {},
          "execution_count": 6
        }
      ]
    },
    {
      "cell_type": "code",
      "source": [
        "#as we can see id is not seems important to predict the outcome so first we will drop the id column\n",
        "df.drop('id',axis=1,inplace=True)"
      ],
      "metadata": {
        "id": "DRX8InzR06lk"
      },
      "execution_count": 7,
      "outputs": []
    },
    {
      "cell_type": "code",
      "source": [
        "#now to visualise the null value\n",
        "sns.heatmap(df.isnull())\n",
        "plt.show()"
      ],
      "metadata": {
        "colab": {
          "base_uri": "https://localhost:8080/",
          "height": 549
        },
        "id": "XDEfq3Gj7exY",
        "outputId": "338dfc7f-868d-46bc-8532-91d0e32b71e7"
      },
      "execution_count": 8,
      "outputs": [
        {
          "output_type": "display_data",
          "data": {
            "text/plain": [
              "<Figure size 640x480 with 2 Axes>"
            ],
            "image/png": "[encoded data removed]"
          },
          "metadata": {}
        }
      ]
    },
    {
      "cell_type": "code",
      "source": [
        "#as we already check the null value is less than 50% so we will fill the null value with the median\n",
        "#now we will fill the null value with the median\n",
        "m=df['bmi'].median()\n",
        "print(m)\n",
        "df['bmi'].fillna(m,inplace=True)"
      ],
      "metadata": {
        "colab": {
          "base_uri": "https://localhost:8080/"
        },
        "id": "hqor_Ous7gnn",
        "outputId": "4842ad4e-f0ec-4725-e68e-307b61bc91d5"
      },
      "execution_count": 9,
      "outputs": [
        {
          "output_type": "stream",
          "name": "stdout",
          "text": [
            "28.1\n"
          ]
        }
      ]
    },
    {
      "cell_type": "code",
      "source": [
        "df.head(5)"
      ],
      "metadata": {
        "colab": {
          "base_uri": "https://localhost:8080/",
          "height": 302
        },
        "id": "X_qQijwU7jUF",
        "outputId": "bae2d72a-c542-4178-e337-fb27f2e0c5d9"
      },
      "execution_count": 10,
      "outputs": [
        {
          "output_type": "execute_result",
          "data": {
            "text/plain": [
              "   gender   age  hypertension  heart_disease ever_married      work_type  \\\n",
              "0    Male  67.0             0              1          Yes        Private   \n",
              "1  Female  61.0             0              0          Yes  Self-employed   \n",
              "2    Male  80.0             0              1          Yes        Private   \n",
              "3  Female  49.0             0              0          Yes        Private   \n",
              "4  Female  79.0             1              0          Yes  Self-employed   \n",
              "\n",
              "  Residence_type  avg_glucose_level   bmi   smoking_status  stroke  \n",
              "0          Urban             228.69  36.6  formerly smoked       1  \n",
              "1          Rural             202.21  28.1     never smoked       1  \n",
              "2          Rural             105.92  32.5     never smoked       1  \n",
              "3          Urban             171.23  34.4           smokes       1  \n",
              "4          Rural             174.12  24.0     never smoked       1  "
            ],
            "text/html": [
              "\n",
              "  <div id=\"df-fbca0d3b-97a3-4d19-88dd-93603d5d3d7c\">\n",
              "    <div class=\"colab-df-container\">\n",
              "      <div>\n",
              "<style scoped>\n",
              "    .dataframe tbody tr th:only-of-type {\n",
              "        vertical-align: middle;\n",
              "    }\n",
              "\n",
              "    .dataframe tbody tr th {\n",
              "        vertical-align: top;\n",
              "    }\n",
              "\n",
              "    .dataframe thead th {\n",
              "        text-align: right;\n",
              "    }\n",
              "</style>\n",
              "<table border=\"1\" class=\"dataframe\">\n",
              "  <thead>\n",
              "    <tr style=\"text-align: right;\">\n",
              "      <th></th>\n",
              "      <th>gender</th>\n",
              "      <th>age</th>\n",
              "      <th>hypertension</th>\n",
              "      <th>heart_disease</th>\n",
              "      <th>ever_married</th>\n",
              "      <th>work_type</th>\n",
              "      <th>Residence_type</th>\n",
              "      <th>avg_glucose_level</th>\n",
              "      <th>bmi</th>\n",
              "      <th>smoking_status</th>\n",
              "      <th>stroke</th>\n",
              "    </tr>\n",
              "  </thead>\n",
              "  <tbody>\n",
              "    <tr>\n",
              "      <th>0</th>\n",
              "      <td>Male</td>\n",
              "      <td>67.0</td>\n",
              "      <td>0</td>\n",
              "      <td>1</td>\n",
              "      <td>Yes</td>\n",
              "      <td>Private</td>\n",
              "      <td>Urban</td>\n",
              "      <td>228.69</td>\n",
              "      <td>36.6</td>\n",
              "      <td>formerly smoked</td>\n",
              "      <td>1</td>\n",
              "    </tr>\n",
              "    <tr>\n",
              "      <th>1</th>\n",
              "      <td>Female</td>\n",
              "      <td>61.0</td>\n",
              "      <td>0</td>\n",
              "      <td>0</td>\n",
              "      <td>Yes</td>\n",
              "      <td>Self-employed</td>\n",
              "      <td>Rural</td>\n",
              "      <td>202.21</td>\n",
              "      <td>28.1</td>\n",
              "      <td>never smoked</td>\n",
              "      <td>1</td>\n",
              "    </tr>\n",
              "    <tr>\n",
              "      <th>2</th>\n",
              "      <td>Male</td>\n",
              "      <td>80.0</td>\n",
              "      <td>0</td>\n",
              "      <td>1</td>\n",
              "      <td>Yes</td>\n",
              "      <td>Private</td>\n",
              "      <td>Rural</td>\n",
              "      <td>105.92</td>\n",
              "      <td>32.5</td>\n",
              "      <td>never smoked</td>\n",
              "      <td>1</td>\n",
              "    </tr>\n",
              "    <tr>\n",
              "      <th>3</th>\n",
              "      <td>Female</td>\n",
              "      <td>49.0</td>\n",
              "      <td>0</td>\n",
              "      <td>0</td>\n",
              "      <td>Yes</td>\n",
              "      <td>Private</td>\n",
              "      <td>Urban</td>\n",
              "      <td>171.23</td>\n",
              "      <td>34.4</td>\n",
              "      <td>smokes</td>\n",
              "      <td>1</td>\n",
              "    </tr>\n",
              "    <tr>\n",
              "      <th>4</th>\n",
              "      <td>Female</td>\n",
              "      <td>79.0</td>\n",
              "      <td>1</td>\n",
              "      <td>0</td>\n",
              "      <td>Yes</td>\n",
              "      <td>Self-employed</td>\n",
              "      <td>Rural</td>\n",
              "      <td>174.12</td>\n",
              "      <td>24.0</td>\n",
              "      <td>never smoked</td>\n",
              "      <td>1</td>\n",
              "    </tr>\n",
              "  </tbody>\n",
              "</table>\n",
              "</div>\n",
              "      <button class=\"colab-df-convert\" onclick=\"convertToInteractive('df-fbca0d3b-97a3-4d19-88dd-93603d5d3d7c')\"\n",
              "              title=\"Convert this dataframe to an interactive table.\"\n",
              "              style=\"display:none;\">\n",
              "        \n",
              "  <svg xmlns=\"http://www.w3.org/2000/svg\" height=\"24px\"viewBox=\"0 0 24 24\"\n",
              "       width=\"24px\">\n",
              "    <path d=\"M0 0h24v24H0V0z\" fill=\"none\"/>\n",
              "    <path d=\"M18.56 5.44l.94 2.06.94-2.06 2.06-.94-2.06-.94-.94-2.06-.94 2.06-2.06.94zm-11 1L8.5 8.5l.94-2.06 2.06-.94-2.06-.94L8.5 2.5l-.94 2.06-2.06.94zm10 10l.94 2.06.94-2.06 2.06-.94-2.06-.94-.94-2.06-.94 2.06-2.06.94z\"/><path d=\"M17.41 7.96l-1.37-1.37c-.4-.4-.92-.59-1.43-.59-.52 0-1.04.2-1.43.59L10.3 9.45l-7.72 7.72c-.78.78-.78 2.05 0 2.83L4 21.41c.39.39.9.59 1.41.59.51 0 1.02-.2 1.41-.59l7.78-7.78 2.81-2.81c.8-.78.8-2.07 0-2.86zM5.41 20L4 18.59l7.72-7.72 1.47 1.35L5.41 20z\"/>\n",
              "  </svg>\n",
              "      </button>\n",
              "      \n",
              "  <style>\n",
              "    .colab-df-container {\n",
              "      display:flex;\n",
              "      flex-wrap:wrap;\n",
              "      gap: 12px;\n",
              "    }\n",
              "\n",
              "    .colab-df-convert {\n",
              "      background-color: #E8F0FE;\n",
              "      border: none;\n",
              "      border-radius: 50%;\n",
              "      cursor: pointer;\n",
              "      display: none;\n",
              "      fill: #1967D2;\n",
              "      height: 32px;\n",
              "      padding: 0 0 0 0;\n",
              "      width: 32px;\n",
              "    }\n",
              "\n",
              "    .colab-df-convert:hover {\n",
              "      background-color: #E2EBFA;\n",
              "      box-shadow: 0px 1px 2px rgba(60, 64, 67, 0.3), 0px 1px 3px 1px rgba(60, 64, 67, 0.15);\n",
              "      fill: #174EA6;\n",
              "    }\n",
              "\n",
              "    [theme=dark] .colab-df-convert {\n",
              "      background-color: #3B4455;\n",
              "      fill: #D2E3FC;\n",
              "    }\n",
              "\n",
              "    [theme=dark] .colab-df-convert:hover {\n",
              "      background-color: #434B5C;\n",
              "      box-shadow: 0px 1px 3px 1px rgba(0, 0, 0, 0.15);\n",
              "      filter: drop-shadow(0px 1px 2px rgba(0, 0, 0, 0.3));\n",
              "      fill: #FFFFFF;\n",
              "    }\n",
              "  </style>\n",
              "\n",
              "      <script>\n",
              "        const buttonEl =\n",
              "          document.querySelector('#df-fbca0d3b-97a3-4d19-88dd-93603d5d3d7c button.colab-df-convert');\n",
              "        buttonEl.style.display =\n",
              "          google.colab.kernel.accessAllowed ? 'block' : 'none';\n",
              "\n",
              "        async function convertToInteractive(key) {\n",
              "          const element = document.querySelector('#df-fbca0d3b-97a3-4d19-88dd-93603d5d3d7c');\n",
              "          const dataTable =\n",
              "            await google.colab.kernel.invokeFunction('convertToInteractive',\n",
              "                                                     [key], {});\n",
              "          if (!dataTable) return;\n",
              "\n",
              "          const docLinkHtml = 'Like what you see? Visit the ' +\n",
              "            '<a target=\"_blank\" href=https://colab.research.google.com/notebooks/data_table.ipynb>data table notebook</a>'\n",
              "            + ' to learn more about interactive tables.';\n",
              "          element.innerHTML = '';\n",
              "          dataTable['output_type'] = 'display_data';\n",
              "          await google.colab.output.renderOutput(dataTable, element);\n",
              "          const docLink = document.createElement('div');\n",
              "          docLink.innerHTML = docLinkHtml;\n",
              "          element.appendChild(docLink);\n",
              "        }\n",
              "      </script>\n",
              "    </div>\n",
              "  </div>\n",
              "  "
            ]
          },
          "metadata": {},
          "execution_count": 10
        }
      ]
    },
    {
      "cell_type": "code",
      "source": [
        "#now we will check the null value once again\n",
        "df.isnull().sum()"
      ],
      "metadata": {
        "colab": {
          "base_uri": "https://localhost:8080/"
        },
        "id": "Yjcvxsb67k4E",
        "outputId": "9bd6736f-86ca-42b5-9f71-ce56493ef73e"
      },
      "execution_count": 11,
      "outputs": [
        {
          "output_type": "execute_result",
          "data": {
            "text/plain": [
              "gender               0\n",
              "age                  0\n",
              "hypertension         0\n",
              "heart_disease        0\n",
              "ever_married         0\n",
              "work_type            0\n",
              "Residence_type       0\n",
              "avg_glucose_level    0\n",
              "bmi                  0\n",
              "smoking_status       0\n",
              "stroke               0\n",
              "dtype: int64"
            ]
          },
          "metadata": {},
          "execution_count": 11
        }
      ]
    },
    {
      "cell_type": "code",
      "source": [
        "#visualising the null value\n",
        "sns.heatmap(df.isnull())\n",
        "plt.show()"
      ],
      "metadata": {
        "colab": {
          "base_uri": "https://localhost:8080/",
          "height": 549
        },
        "id": "q6-Vgcp27mM4",
        "outputId": "f34eef25-ab62-484c-d86b-b682f2dfbc88"
      },
      "execution_count": 12,
      "outputs": [
        {
          "output_type": "display_data",
          "data": {
            "text/plain": [
              "<Figure size 640x480 with 2 Axes>"
            ],
            "image/png": "[encoded data removed]"
          },
          "metadata": {}
        }
      ]
    },
    {
      "cell_type": "code",
      "source": [
        "#after handling the null value we will check the data type of dataset.\n",
        "df.dtypes"
      ],
      "metadata": {
        "colab": {
          "base_uri": "https://localhost:8080/"
        },
        "id": "eh1Rd4nj7pyD",
        "outputId": "46dd1503-cb10-413c-8f1c-46dd288f6834"
      },
      "execution_count": 13,
      "outputs": [
        {
          "output_type": "execute_result",
          "data": {
            "text/plain": [
              "gender                object\n",
              "age                  float64\n",
              "hypertension           int64\n",
              "heart_disease          int64\n",
              "ever_married          object\n",
              "work_type             object\n",
              "Residence_type        object\n",
              "avg_glucose_level    float64\n",
              "bmi                  float64\n",
              "smoking_status        object\n",
              "stroke                 int64\n",
              "dtype: object"
            ]
          },
          "metadata": {},
          "execution_count": 13
        }
      ]
    },
    {
      "cell_type": "code",
      "source": [
        "#now we have to make sure that we should have data set in numerical form as\n",
        "#machine only understands the numbers\n",
        "#so we have to split the data which is numerical and categorical\n",
        "df_num=df.select_dtypes(['int64','float64'])\n",
        "df_cat=df.select_dtypes(object)"
      ],
      "metadata": {
        "id": "vFwZ6nc67t2k"
      },
      "execution_count": 14,
      "outputs": []
    },
    {
      "cell_type": "code",
      "source": [
        "df_num.head(5)"
      ],
      "metadata": {
        "colab": {
          "base_uri": "https://localhost:8080/",
          "height": 204
        },
        "id": "Ua290DYA71AV",
        "outputId": "e4db006c-308d-4b93-b4dd-517e2025bdad"
      },
      "execution_count": 15,
      "outputs": [
        {
          "output_type": "execute_result",
          "data": {
            "text/plain": [
              "    age  hypertension  heart_disease  avg_glucose_level   bmi  stroke\n",
              "0  67.0             0              1             228.69  36.6       1\n",
              "1  61.0             0              0             202.21  28.1       1\n",
              "2  80.0             0              1             105.92  32.5       1\n",
              "3  49.0             0              0             171.23  34.4       1\n",
              "4  79.0             1              0             174.12  24.0       1"
            ],
            "text/html": [
              "\n",
              "  <div id=\"df-af6e9b06-8f03-4743-afd0-6c3ec91eda6f\">\n",
              "    <div class=\"colab-df-container\">\n",
              "      <div>\n",
              "<style scoped>\n",
              "    .dataframe tbody tr th:only-of-type {\n",
              "        vertical-align: middle;\n",
              "    }\n",
              "\n",
              "    .dataframe tbody tr th {\n",
              "        vertical-align: top;\n",
              "    }\n",
              "\n",
              "    .dataframe thead th {\n",
              "        text-align: right;\n",
              "    }\n",
              "</style>\n",
              "<table border=\"1\" class=\"dataframe\">\n",
              "  <thead>\n",
              "    <tr style=\"text-align: right;\">\n",
              "      <th></th>\n",
              "      <th>age</th>\n",
              "      <th>hypertension</th>\n",
              "      <th>heart_disease</th>\n",
              "      <th>avg_glucose_level</th>\n",
              "      <th>bmi</th>\n",
              "      <th>stroke</th>\n",
              "    </tr>\n",
              "  </thead>\n",
              "  <tbody>\n",
              "    <tr>\n",
              "      <th>0</th>\n",
              "      <td>67.0</td>\n",
              "      <td>0</td>\n",
              "      <td>1</td>\n",
              "      <td>228.69</td>\n",
              "      <td>36.6</td>\n",
              "      <td>1</td>\n",
              "    </tr>\n",
              "    <tr>\n",
              "      <th>1</th>\n",
              "      <td>61.0</td>\n",
              "      <td>0</td>\n",
              "      <td>0</td>\n",
              "      <td>202.21</td>\n",
              "      <td>28.1</td>\n",
              "      <td>1</td>\n",
              "    </tr>\n",
              "    <tr>\n",
              "      <th>2</th>\n",
              "      <td>80.0</td>\n",
              "      <td>0</td>\n",
              "      <td>1</td>\n",
              "      <td>105.92</td>\n",
              "      <td>32.5</td>\n",
              "      <td>1</td>\n",
              "    </tr>\n",
              "    <tr>\n",
              "      <th>3</th>\n",
              "      <td>49.0</td>\n",
              "      <td>0</td>\n",
              "      <td>0</td>\n",
              "      <td>171.23</td>\n",
              "      <td>34.4</td>\n",
              "      <td>1</td>\n",
              "    </tr>\n",
              "    <tr>\n",
              "      <th>4</th>\n",
              "      <td>79.0</td>\n",
              "      <td>1</td>\n",
              "      <td>0</td>\n",
              "      <td>174.12</td>\n",
              "      <td>24.0</td>\n",
              "      <td>1</td>\n",
              "    </tr>\n",
              "  </tbody>\n",
              "</table>\n",
              "</div>\n",
              "      <button class=\"colab-df-convert\" onclick=\"convertToInteractive('df-af6e9b06-8f03-4743-afd0-6c3ec91eda6f')\"\n",
              "              title=\"Convert this dataframe to an interactive table.\"\n",
              "              style=\"display:none;\">\n",
              "        \n",
              "  <svg xmlns=\"http://www.w3.org/2000/svg\" height=\"24px\"viewBox=\"0 0 24 24\"\n",
              "       width=\"24px\">\n",
              "    <path d=\"M0 0h24v24H0V0z\" fill=\"none\"/>\n",
              "    <path d=\"M18.56 5.44l.94 2.06.94-2.06 2.06-.94-2.06-.94-.94-2.06-.94 2.06-2.06.94zm-11 1L8.5 8.5l.94-2.06 2.06-.94-2.06-.94L8.5 2.5l-.94 2.06-2.06.94zm10 10l.94 2.06.94-2.06 2.06-.94-2.06-.94-.94-2.06-.94 2.06-2.06.94z\"/><path d=\"M17.41 7.96l-1.37-1.37c-.4-.4-.92-.59-1.43-.59-.52 0-1.04.2-1.43.59L10.3 9.45l-7.72 7.72c-.78.78-.78 2.05 0 2.83L4 21.41c.39.39.9.59 1.41.59.51 0 1.02-.2 1.41-.59l7.78-7.78 2.81-2.81c.8-.78.8-2.07 0-2.86zM5.41 20L4 18.59l7.72-7.72 1.47 1.35L5.41 20z\"/>\n",
              "  </svg>\n",
              "      </button>\n",
              "      \n",
              "  <style>\n",
              "    .colab-df-container {\n",
              "      display:flex;\n",
              "      flex-wrap:wrap;\n",
              "      gap: 12px;\n",
              "    }\n",
              "\n",
              "    .colab-df-convert {\n",
              "      background-color: #E8F0FE;\n",
              "      border: none;\n",
              "      border-radius: 50%;\n",
              "      cursor: pointer;\n",
              "      display: none;\n",
              "      fill: #1967D2;\n",
              "      height: 32px;\n",
              "      padding: 0 0 0 0;\n",
              "      width: 32px;\n",
              "    }\n",
              "\n",
              "    .colab-df-convert:hover {\n",
              "      background-color: #E2EBFA;\n",
              "      box-shadow: 0px 1px 2px rgba(60, 64, 67, 0.3), 0px 1px 3px 1px rgba(60, 64, 67, 0.15);\n",
              "      fill: #174EA6;\n",
              "    }\n",
              "\n",
              "    [theme=dark] .colab-df-convert {\n",
              "      background-color: #3B4455;\n",
              "      fill: #D2E3FC;\n",
              "    }\n",
              "\n",
              "    [theme=dark] .colab-df-convert:hover {\n",
              "      background-color: #434B5C;\n",
              "      box-shadow: 0px 1px 3px 1px rgba(0, 0, 0, 0.15);\n",
              "      filter: drop-shadow(0px 1px 2px rgba(0, 0, 0, 0.3));\n",
              "      fill: #FFFFFF;\n",
              "    }\n",
              "  </style>\n",
              "\n",
              "      <script>\n",
              "        const buttonEl =\n",
              "          document.querySelector('#df-af6e9b06-8f03-4743-afd0-6c3ec91eda6f button.colab-df-convert');\n",
              "        buttonEl.style.display =\n",
              "          google.colab.kernel.accessAllowed ? 'block' : 'none';\n",
              "\n",
              "        async function convertToInteractive(key) {\n",
              "          const element = document.querySelector('#df-af6e9b06-8f03-4743-afd0-6c3ec91eda6f');\n",
              "          const dataTable =\n",
              "            await google.colab.kernel.invokeFunction('convertToInteractive',\n",
              "                                                     [key], {});\n",
              "          if (!dataTable) return;\n",
              "\n",
              "          const docLinkHtml = 'Like what you see? Visit the ' +\n",
              "            '<a target=\"_blank\" href=https://colab.research.google.com/notebooks/data_table.ipynb>data table notebook</a>'\n",
              "            + ' to learn more about interactive tables.';\n",
              "          element.innerHTML = '';\n",
              "          dataTable['output_type'] = 'display_data';\n",
              "          await google.colab.output.renderOutput(dataTable, element);\n",
              "          const docLink = document.createElement('div');\n",
              "          docLink.innerHTML = docLinkHtml;\n",
              "          element.appendChild(docLink);\n",
              "        }\n",
              "      </script>\n",
              "    </div>\n",
              "  </div>\n",
              "  "
            ]
          },
          "metadata": {},
          "execution_count": 15
        }
      ]
    },
    {
      "cell_type": "code",
      "source": [
        "df_cat.head(5)"
      ],
      "metadata": {
        "colab": {
          "base_uri": "https://localhost:8080/",
          "height": 204
        },
        "id": "1sA-x-Ft76uK",
        "outputId": "5ad563e7-6ed1-4c16-fa18-f0ec930c8c5f"
      },
      "execution_count": 16,
      "outputs": [
        {
          "output_type": "execute_result",
          "data": {
            "text/plain": [
              "   gender ever_married      work_type Residence_type   smoking_status\n",
              "0    Male          Yes        Private          Urban  formerly smoked\n",
              "1  Female          Yes  Self-employed          Rural     never smoked\n",
              "2    Male          Yes        Private          Rural     never smoked\n",
              "3  Female          Yes        Private          Urban           smokes\n",
              "4  Female          Yes  Self-employed          Rural     never smoked"
            ],
            "text/html": [
              "\n",
              "  <div id=\"df-ecd1f56a-7208-4580-ba74-aeaa2b3e4310\">\n",
              "    <div class=\"colab-df-container\">\n",
              "      <div>\n",
              "<style scoped>\n",
              "    .dataframe tbody tr th:only-of-type {\n",
              "        vertical-align: middle;\n",
              "    }\n",
              "\n",
              "    .dataframe tbody tr th {\n",
              "        vertical-align: top;\n",
              "    }\n",
              "\n",
              "    .dataframe thead th {\n",
              "        text-align: right;\n",
              "    }\n",
              "</style>\n",
              "<table border=\"1\" class=\"dataframe\">\n",
              "  <thead>\n",
              "    <tr style=\"text-align: right;\">\n",
              "      <th></th>\n",
              "      <th>gender</th>\n",
              "      <th>ever_married</th>\n",
              "      <th>work_type</th>\n",
              "      <th>Residence_type</th>\n",
              "      <th>smoking_status</th>\n",
              "    </tr>\n",
              "  </thead>\n",
              "  <tbody>\n",
              "    <tr>\n",
              "      <th>0</th>\n",
              "      <td>Male</td>\n",
              "      <td>Yes</td>\n",
              "      <td>Private</td>\n",
              "      <td>Urban</td>\n",
              "      <td>formerly smoked</td>\n",
              "    </tr>\n",
              "    <tr>\n",
              "      <th>1</th>\n",
              "      <td>Female</td>\n",
              "      <td>Yes</td>\n",
              "      <td>Self-employed</td>\n",
              "      <td>Rural</td>\n",
              "      <td>never smoked</td>\n",
              "    </tr>\n",
              "    <tr>\n",
              "      <th>2</th>\n",
              "      <td>Male</td>\n",
              "      <td>Yes</td>\n",
              "      <td>Private</td>\n",
              "      <td>Rural</td>\n",
              "      <td>never smoked</td>\n",
              "    </tr>\n",
              "    <tr>\n",
              "      <th>3</th>\n",
              "      <td>Female</td>\n",
              "      <td>Yes</td>\n",
              "      <td>Private</td>\n",
              "      <td>Urban</td>\n",
              "      <td>smokes</td>\n",
              "    </tr>\n",
              "    <tr>\n",
              "      <th>4</th>\n",
              "      <td>Female</td>\n",
              "      <td>Yes</td>\n",
              "      <td>Self-employed</td>\n",
              "      <td>Rural</td>\n",
              "      <td>never smoked</td>\n",
              "    </tr>\n",
              "  </tbody>\n",
              "</table>\n",
              "</div>\n",
              "      <button class=\"colab-df-convert\" onclick=\"convertToInteractive('df-ecd1f56a-7208-4580-ba74-aeaa2b3e4310')\"\n",
              "              title=\"Convert this dataframe to an interactive table.\"\n",
              "              style=\"display:none;\">\n",
              "        \n",
              "  <svg xmlns=\"http://www.w3.org/2000/svg\" height=\"24px\"viewBox=\"0 0 24 24\"\n",
              "       width=\"24px\">\n",
              "    <path d=\"M0 0h24v24H0V0z\" fill=\"none\"/>\n",
              "    <path d=\"M18.56 5.44l.94 2.06.94-2.06 2.06-.94-2.06-.94-.94-2.06-.94 2.06-2.06.94zm-11 1L8.5 8.5l.94-2.06 2.06-.94-2.06-.94L8.5 2.5l-.94 2.06-2.06.94zm10 10l.94 2.06.94-2.06 2.06-.94-2.06-.94-.94-2.06-.94 2.06-2.06.94z\"/><path d=\"M17.41 7.96l-1.37-1.37c-.4-.4-.92-.59-1.43-.59-.52 0-1.04.2-1.43.59L10.3 9.45l-7.72 7.72c-.78.78-.78 2.05 0 2.83L4 21.41c.39.39.9.59 1.41.59.51 0 1.02-.2 1.41-.59l7.78-7.78 2.81-2.81c.8-.78.8-2.07 0-2.86zM5.41 20L4 18.59l7.72-7.72 1.47 1.35L5.41 20z\"/>\n",
              "  </svg>\n",
              "      </button>\n",
              "      \n",
              "  <style>\n",
              "    .colab-df-container {\n",
              "      display:flex;\n",
              "      flex-wrap:wrap;\n",
              "      gap: 12px;\n",
              "    }\n",
              "\n",
              "    .colab-df-convert {\n",
              "      background-color: #E8F0FE;\n",
              "      border: none;\n",
              "      border-radius: 50%;\n",
              "      cursor: pointer;\n",
              "      display: none;\n",
              "      fill: #1967D2;\n",
              "      height: 32px;\n",
              "      padding: 0 0 0 0;\n",
              "      width: 32px;\n",
              "    }\n",
              "\n",
              "    .colab-df-convert:hover {\n",
              "      background-color: #E2EBFA;\n",
              "      box-shadow: 0px 1px 2px rgba(60, 64, 67, 0.3), 0px 1px 3px 1px rgba(60, 64, 67, 0.15);\n",
              "      fill: #174EA6;\n",
              "    }\n",
              "\n",
              "    [theme=dark] .colab-df-convert {\n",
              "      background-color: #3B4455;\n",
              "      fill: #D2E3FC;\n",
              "    }\n",
              "\n",
              "    [theme=dark] .colab-df-convert:hover {\n",
              "      background-color: #434B5C;\n",
              "      box-shadow: 0px 1px 3px 1px rgba(0, 0, 0, 0.15);\n",
              "      filter: drop-shadow(0px 1px 2px rgba(0, 0, 0, 0.3));\n",
              "      fill: #FFFFFF;\n",
              "    }\n",
              "  </style>\n",
              "\n",
              "      <script>\n",
              "        const buttonEl =\n",
              "          document.querySelector('#df-ecd1f56a-7208-4580-ba74-aeaa2b3e4310 button.colab-df-convert');\n",
              "        buttonEl.style.display =\n",
              "          google.colab.kernel.accessAllowed ? 'block' : 'none';\n",
              "\n",
              "        async function convertToInteractive(key) {\n",
              "          const element = document.querySelector('#df-ecd1f56a-7208-4580-ba74-aeaa2b3e4310');\n",
              "          const dataTable =\n",
              "            await google.colab.kernel.invokeFunction('convertToInteractive',\n",
              "                                                     [key], {});\n",
              "          if (!dataTable) return;\n",
              "\n",
              "          const docLinkHtml = 'Like what you see? Visit the ' +\n",
              "            '<a target=\"_blank\" href=https://colab.research.google.com/notebooks/data_table.ipynb>data table notebook</a>'\n",
              "            + ' to learn more about interactive tables.';\n",
              "          element.innerHTML = '';\n",
              "          dataTable['output_type'] = 'display_data';\n",
              "          await google.colab.output.renderOutput(dataTable, element);\n",
              "          const docLink = document.createElement('div');\n",
              "          docLink.innerHTML = docLinkHtml;\n",
              "          element.appendChild(docLink);\n",
              "        }\n",
              "      </script>\n",
              "    </div>\n",
              "  </div>\n",
              "  "
            ]
          },
          "metadata": {},
          "execution_count": 16
        }
      ]
    },
    {
      "cell_type": "code",
      "source": [
        "#now we will convert the data into numeric form by using LabelEncoder\n",
        "from sklearn.preprocessing import LabelEncoder"
      ],
      "metadata": {
        "id": "1Ee2DaFX78Cd"
      },
      "execution_count": 17,
      "outputs": []
    },
    {
      "cell_type": "code",
      "source": [
        "for col in df_cat:\n",
        "    #now create object of LabelEncoder\n",
        "    le=LabelEncoder()\n",
        "    df_cat[col]=le.fit_transform(df_cat[col])"
      ],
      "metadata": {
        "id": "0OPikIgA7-DN"
      },
      "execution_count": 18,
      "outputs": []
    },
    {
      "cell_type": "code",
      "source": [
        "df_cat"
      ],
      "metadata": {
        "colab": {
          "base_uri": "https://localhost:8080/",
          "height": 419
        },
        "id": "W7NGFblL7_as",
        "outputId": "d2967072-99c8-4b9f-9437-e6608b75c9a8"
      },
      "execution_count": 19,
      "outputs": [
        {
          "output_type": "execute_result",
          "data": {
            "text/plain": [
              "      gender  ever_married  work_type  Residence_type  smoking_status\n",
              "0          1             1          2               1               1\n",
              "1          0             1          3               0               2\n",
              "2          1             1          2               0               2\n",
              "3          0             1          2               1               3\n",
              "4          0             1          3               0               2\n",
              "...      ...           ...        ...             ...             ...\n",
              "5105       0             1          2               1               2\n",
              "5106       0             1          3               1               2\n",
              "5107       0             1          3               0               2\n",
              "5108       1             1          2               0               1\n",
              "5109       0             1          0               1               0\n",
              "\n",
              "[5110 rows x 5 columns]"
            ],
            "text/html": [
              "\n",
              "  <div id=\"df-bc67a34a-611a-44f2-adf8-4ba39c730e59\">\n",
              "    <div class=\"colab-df-container\">\n",
              "      <div>\n",
              "<style scoped>\n",
              "    .dataframe tbody tr th:only-of-type {\n",
              "        vertical-align: middle;\n",
              "    }\n",
              "\n",
              "    .dataframe tbody tr th {\n",
              "        vertical-align: top;\n",
              "    }\n",
              "\n",
              "    .dataframe thead th {\n",
              "        text-align: right;\n",
              "    }\n",
              "</style>\n",
              "<table border=\"1\" class=\"dataframe\">\n",
              "  <thead>\n",
              "    <tr style=\"text-align: right;\">\n",
              "      <th></th>\n",
              "      <th>gender</th>\n",
              "      <th>ever_married</th>\n",
              "      <th>work_type</th>\n",
              "      <th>Residence_type</th>\n",
              "      <th>smoking_status</th>\n",
              "    </tr>\n",
              "  </thead>\n",
              "  <tbody>\n",
              "    <tr>\n",
              "      <th>0</th>\n",
              "      <td>1</td>\n",
              "      <td>1</td>\n",
              "      <td>2</td>\n",
              "      <td>1</td>\n",
              "      <td>1</td>\n",
              "    </tr>\n",
              "    <tr>\n",
              "      <th>1</th>\n",
              "      <td>0</td>\n",
              "      <td>1</td>\n",
              "      <td>3</td>\n",
              "      <td>0</td>\n",
              "      <td>2</td>\n",
              "    </tr>\n",
              "    <tr>\n",
              "      <th>2</th>\n",
              "      <td>1</td>\n",
              "      <td>1</td>\n",
              "      <td>2</td>\n",
              "      <td>0</td>\n",
              "      <td>2</td>\n",
              "    </tr>\n",
              "    <tr>\n",
              "      <th>3</th>\n",
              "      <td>0</td>\n",
              "      <td>1</td>\n",
              "      <td>2</td>\n",
              "      <td>1</td>\n",
              "      <td>3</td>\n",
              "    </tr>\n",
              "    <tr>\n",
              "      <th>4</th>\n",
              "      <td>0</td>\n",
              "      <td>1</td>\n",
              "      <td>3</td>\n",
              "      <td>0</td>\n",
              "      <td>2</td>\n",
              "    </tr>\n",
              "    <tr>\n",
              "      <th>...</th>\n",
              "      <td>...</td>\n",
              "      <td>...</td>\n",
              "      <td>...</td>\n",
              "      <td>...</td>\n",
              "      <td>...</td>\n",
              "    </tr>\n",
              "    <tr>\n",
              "      <th>5105</th>\n",
              "      <td>0</td>\n",
              "      <td>1</td>\n",
              "      <td>2</td>\n",
              "      <td>1</td>\n",
              "      <td>2</td>\n",
              "    </tr>\n",
              "    <tr>\n",
              "      <th>5106</th>\n",
              "      <td>0</td>\n",
              "      <td>1</td>\n",
              "      <td>3</td>\n",
              "      <td>1</td>\n",
              "      <td>2</td>\n",
              "    </tr>\n",
              "    <tr>\n",
              "      <th>5107</th>\n",
              "      <td>0</td>\n",
              "      <td>1</td>\n",
              "      <td>3</td>\n",
              "      <td>0</td>\n",
              "      <td>2</td>\n",
              "    </tr>\n",
              "    <tr>\n",
              "      <th>5108</th>\n",
              "      <td>1</td>\n",
              "      <td>1</td>\n",
              "      <td>2</td>\n",
              "      <td>0</td>\n",
              "      <td>1</td>\n",
              "    </tr>\n",
              "    <tr>\n",
              "      <th>5109</th>\n",
              "      <td>0</td>\n",
              "      <td>1</td>\n",
              "      <td>0</td>\n",
              "      <td>1</td>\n",
              "      <td>0</td>\n",
              "    </tr>\n",
              "  </tbody>\n",
              "</table>\n",
              "<p>5110 rows × 5 columns</p>\n",
              "</div>\n",
              "      <button class=\"colab-df-convert\" onclick=\"convertToInteractive('df-bc67a34a-611a-44f2-adf8-4ba39c730e59')\"\n",
              "              title=\"Convert this dataframe to an interactive table.\"\n",
              "              style=\"display:none;\">\n",
              "        \n",
              "  <svg xmlns=\"http://www.w3.org/2000/svg\" height=\"24px\"viewBox=\"0 0 24 24\"\n",
              "       width=\"24px\">\n",
              "    <path d=\"M0 0h24v24H0V0z\" fill=\"none\"/>\n",
              "    <path d=\"M18.56 5.44l.94 2.06.94-2.06 2.06-.94-2.06-.94-.94-2.06-.94 2.06-2.06.94zm-11 1L8.5 8.5l.94-2.06 2.06-.94-2.06-.94L8.5 2.5l-.94 2.06-2.06.94zm10 10l.94 2.06.94-2.06 2.06-.94-2.06-.94-.94-2.06-.94 2.06-2.06.94z\"/><path d=\"M17.41 7.96l-1.37-1.37c-.4-.4-.92-.59-1.43-.59-.52 0-1.04.2-1.43.59L10.3 9.45l-7.72 7.72c-.78.78-.78 2.05 0 2.83L4 21.41c.39.39.9.59 1.41.59.51 0 1.02-.2 1.41-.59l7.78-7.78 2.81-2.81c.8-.78.8-2.07 0-2.86zM5.41 20L4 18.59l7.72-7.72 1.47 1.35L5.41 20z\"/>\n",
              "  </svg>\n",
              "      </button>\n",
              "      \n",
              "  <style>\n",
              "    .colab-df-container {\n",
              "      display:flex;\n",
              "      flex-wrap:wrap;\n",
              "      gap: 12px;\n",
              "    }\n",
              "\n",
              "    .colab-df-convert {\n",
              "      background-color: #E8F0FE;\n",
              "      border: none;\n",
              "      border-radius: 50%;\n",
              "      cursor: pointer;\n",
              "      display: none;\n",
              "      fill: #1967D2;\n",
              "      height: 32px;\n",
              "      padding: 0 0 0 0;\n",
              "      width: 32px;\n",
              "    }\n",
              "\n",
              "    .colab-df-convert:hover {\n",
              "      background-color: #E2EBFA;\n",
              "      box-shadow: 0px 1px 2px rgba(60, 64, 67, 0.3), 0px 1px 3px 1px rgba(60, 64, 67, 0.15);\n",
              "      fill: #174EA6;\n",
              "    }\n",
              "\n",
              "    [theme=dark] .colab-df-convert {\n",
              "      background-color: #3B4455;\n",
              "      fill: #D2E3FC;\n",
              "    }\n",
              "\n",
              "    [theme=dark] .colab-df-convert:hover {\n",
              "      background-color: #434B5C;\n",
              "      box-shadow: 0px 1px 3px 1px rgba(0, 0, 0, 0.15);\n",
              "      filter: drop-shadow(0px 1px 2px rgba(0, 0, 0, 0.3));\n",
              "      fill: #FFFFFF;\n",
              "    }\n",
              "  </style>\n",
              "\n",
              "      <script>\n",
              "        const buttonEl =\n",
              "          document.querySelector('#df-bc67a34a-611a-44f2-adf8-4ba39c730e59 button.colab-df-convert');\n",
              "        buttonEl.style.display =\n",
              "          google.colab.kernel.accessAllowed ? 'block' : 'none';\n",
              "\n",
              "        async function convertToInteractive(key) {\n",
              "          const element = document.querySelector('#df-bc67a34a-611a-44f2-adf8-4ba39c730e59');\n",
              "          const dataTable =\n",
              "            await google.colab.kernel.invokeFunction('convertToInteractive',\n",
              "                                                     [key], {});\n",
              "          if (!dataTable) return;\n",
              "\n",
              "          const docLinkHtml = 'Like what you see? Visit the ' +\n",
              "            '<a target=\"_blank\" href=https://colab.research.google.com/notebooks/data_table.ipynb>data table notebook</a>'\n",
              "            + ' to learn more about interactive tables.';\n",
              "          element.innerHTML = '';\n",
              "          dataTable['output_type'] = 'display_data';\n",
              "          await google.colab.output.renderOutput(dataTable, element);\n",
              "          const docLink = document.createElement('div');\n",
              "          docLink.innerHTML = docLinkHtml;\n",
              "          element.appendChild(docLink);\n",
              "        }\n",
              "      </script>\n",
              "    </div>\n",
              "  </div>\n",
              "  "
            ]
          },
          "metadata": {},
          "execution_count": 19
        }
      ]
    },
    {
      "cell_type": "code",
      "source": [
        "#noe we can check the data type of df_cat which was categorical data\n",
        "df_cat.dtypes"
      ],
      "metadata": {
        "colab": {
          "base_uri": "https://localhost:8080/"
        },
        "id": "rkW8f4RI8Bdb",
        "outputId": "528e1677-8f8d-44b8-9cec-00940169f06d"
      },
      "execution_count": 20,
      "outputs": [
        {
          "output_type": "execute_result",
          "data": {
            "text/plain": [
              "gender            int64\n",
              "ever_married      int64\n",
              "work_type         int64\n",
              "Residence_type    int64\n",
              "smoking_status    int64\n",
              "dtype: object"
            ]
          },
          "metadata": {},
          "execution_count": 20
        }
      ]
    },
    {
      "cell_type": "code",
      "source": [
        "#after converting the complete dataset into numerical data types we need to\n",
        "#concatenate df_cat and df_num\n",
        "df_new=pd.concat([df_num,df_cat],axis=1)\n",
        "df_new.head(5)"
      ],
      "metadata": {
        "colab": {
          "base_uri": "https://localhost:8080/",
          "height": 268
        },
        "id": "VS6dVdXS8DZQ",
        "outputId": "68763b64-76a6-47fe-ff14-602314c2566d"
      },
      "execution_count": 21,
      "outputs": [
        {
          "output_type": "execute_result",
          "data": {
            "text/plain": [
              "    age  hypertension  heart_disease  avg_glucose_level   bmi  stroke  gender  \\\n",
              "0  67.0             0              1             228.69  36.6       1       1   \n",
              "1  61.0             0              0             202.21  28.1       1       0   \n",
              "2  80.0             0              1             105.92  32.5       1       1   \n",
              "3  49.0             0              0             171.23  34.4       1       0   \n",
              "4  79.0             1              0             174.12  24.0       1       0   \n",
              "\n",
              "   ever_married  work_type  Residence_type  smoking_status  \n",
              "0             1          2               1               1  \n",
              "1             1          3               0               2  \n",
              "2             1          2               0               2  \n",
              "3             1          2               1               3  \n",
              "4             1          3               0               2  "
            ],
            "text/html": [
              "\n",
              "  <div id=\"df-69cbea9c-f4f5-4a48-97e5-9127541697c1\">\n",
              "    <div class=\"colab-df-container\">\n",
              "      <div>\n",
              "<style scoped>\n",
              "    .dataframe tbody tr th:only-of-type {\n",
              "        vertical-align: middle;\n",
              "    }\n",
              "\n",
              "    .dataframe tbody tr th {\n",
              "        vertical-align: top;\n",
              "    }\n",
              "\n",
              "    .dataframe thead th {\n",
              "        text-align: right;\n",
              "    }\n",
              "</style>\n",
              "<table border=\"1\" class=\"dataframe\">\n",
              "  <thead>\n",
              "    <tr style=\"text-align: right;\">\n",
              "      <th></th>\n",
              "      <th>age</th>\n",
              "      <th>hypertension</th>\n",
              "      <th>heart_disease</th>\n",
              "      <th>avg_glucose_level</th>\n",
              "      <th>bmi</th>\n",
              "      <th>stroke</th>\n",
              "      <th>gender</th>\n",
              "      <th>ever_married</th>\n",
              "      <th>work_type</th>\n",
              "      <th>Residence_type</th>\n",
              "      <th>smoking_status</th>\n",
              "    </tr>\n",
              "  </thead>\n",
              "  <tbody>\n",
              "    <tr>\n",
              "      <th>0</th>\n",
              "      <td>67.0</td>\n",
              "      <td>0</td>\n",
              "      <td>1</td>\n",
              "      <td>228.69</td>\n",
              "      <td>36.6</td>\n",
              "      <td>1</td>\n",
              "      <td>1</td>\n",
              "      <td>1</td>\n",
              "      <td>2</td>\n",
              "      <td>1</td>\n",
              "      <td>1</td>\n",
              "    </tr>\n",
              "    <tr>\n",
              "      <th>1</th>\n",
              "      <td>61.0</td>\n",
              "      <td>0</td>\n",
              "      <td>0</td>\n",
              "      <td>202.21</td>\n",
              "      <td>28.1</td>\n",
              "      <td>1</td>\n",
              "      <td>0</td>\n",
              "      <td>1</td>\n",
              "      <td>3</td>\n",
              "      <td>0</td>\n",
              "      <td>2</td>\n",
              "    </tr>\n",
              "    <tr>\n",
              "      <th>2</th>\n",
              "      <td>80.0</td>\n",
              "      <td>0</td>\n",
              "      <td>1</td>\n",
              "      <td>105.92</td>\n",
              "      <td>32.5</td>\n",
              "      <td>1</td>\n",
              "      <td>1</td>\n",
              "      <td>1</td>\n",
              "      <td>2</td>\n",
              "      <td>0</td>\n",
              "      <td>2</td>\n",
              "    </tr>\n",
              "    <tr>\n",
              "      <th>3</th>\n",
              "      <td>49.0</td>\n",
              "      <td>0</td>\n",
              "      <td>0</td>\n",
              "      <td>171.23</td>\n",
              "      <td>34.4</td>\n",
              "      <td>1</td>\n",
              "      <td>0</td>\n",
              "      <td>1</td>\n",
              "      <td>2</td>\n",
              "      <td>1</td>\n",
              "      <td>3</td>\n",
              "    </tr>\n",
              "    <tr>\n",
              "      <th>4</th>\n",
              "      <td>79.0</td>\n",
              "      <td>1</td>\n",
              "      <td>0</td>\n",
              "      <td>174.12</td>\n",
              "      <td>24.0</td>\n",
              "      <td>1</td>\n",
              "      <td>0</td>\n",
              "      <td>1</td>\n",
              "      <td>3</td>\n",
              "      <td>0</td>\n",
              "      <td>2</td>\n",
              "    </tr>\n",
              "  </tbody>\n",
              "</table>\n",
              "</div>\n",
              "      <button class=\"colab-df-convert\" onclick=\"convertToInteractive('df-69cbea9c-f4f5-4a48-97e5-9127541697c1')\"\n",
              "              title=\"Convert this dataframe to an interactive table.\"\n",
              "              style=\"display:none;\">\n",
              "        \n",
              "  <svg xmlns=\"http://www.w3.org/2000/svg\" height=\"24px\"viewBox=\"0 0 24 24\"\n",
              "       width=\"24px\">\n",
              "    <path d=\"M0 0h24v24H0V0z\" fill=\"none\"/>\n",
              "    <path d=\"M18.56 5.44l.94 2.06.94-2.06 2.06-.94-2.06-.94-.94-2.06-.94 2.06-2.06.94zm-11 1L8.5 8.5l.94-2.06 2.06-.94-2.06-.94L8.5 2.5l-.94 2.06-2.06.94zm10 10l.94 2.06.94-2.06 2.06-.94-2.06-.94-.94-2.06-.94 2.06-2.06.94z\"/><path d=\"M17.41 7.96l-1.37-1.37c-.4-.4-.92-.59-1.43-.59-.52 0-1.04.2-1.43.59L10.3 9.45l-7.72 7.72c-.78.78-.78 2.05 0 2.83L4 21.41c.39.39.9.59 1.41.59.51 0 1.02-.2 1.41-.59l7.78-7.78 2.81-2.81c.8-.78.8-2.07 0-2.86zM5.41 20L4 18.59l7.72-7.72 1.47 1.35L5.41 20z\"/>\n",
              "  </svg>\n",
              "      </button>\n",
              "      \n",
              "  <style>\n",
              "    .colab-df-container {\n",
              "      display:flex;\n",
              "      flex-wrap:wrap;\n",
              "      gap: 12px;\n",
              "    }\n",
              "\n",
              "    .colab-df-convert {\n",
              "      background-color: #E8F0FE;\n",
              "      border: none;\n",
              "      border-radius: 50%;\n",
              "      cursor: pointer;\n",
              "      display: none;\n",
              "      fill: #1967D2;\n",
              "      height: 32px;\n",
              "      padding: 0 0 0 0;\n",
              "      width: 32px;\n",
              "    }\n",
              "\n",
              "    .colab-df-convert:hover {\n",
              "      background-color: #E2EBFA;\n",
              "      box-shadow: 0px 1px 2px rgba(60, 64, 67, 0.3), 0px 1px 3px 1px rgba(60, 64, 67, 0.15);\n",
              "      fill: #174EA6;\n",
              "    }\n",
              "\n",
              "    [theme=dark] .colab-df-convert {\n",
              "      background-color: #3B4455;\n",
              "      fill: #D2E3FC;\n",
              "    }\n",
              "\n",
              "    [theme=dark] .colab-df-convert:hover {\n",
              "      background-color: #434B5C;\n",
              "      box-shadow: 0px 1px 3px 1px rgba(0, 0, 0, 0.15);\n",
              "      filter: drop-shadow(0px 1px 2px rgba(0, 0, 0, 0.3));\n",
              "      fill: #FFFFFF;\n",
              "    }\n",
              "  </style>\n",
              "\n",
              "      <script>\n",
              "        const buttonEl =\n",
              "          document.querySelector('#df-69cbea9c-f4f5-4a48-97e5-9127541697c1 button.colab-df-convert');\n",
              "        buttonEl.style.display =\n",
              "          google.colab.kernel.accessAllowed ? 'block' : 'none';\n",
              "\n",
              "        async function convertToInteractive(key) {\n",
              "          const element = document.querySelector('#df-69cbea9c-f4f5-4a48-97e5-9127541697c1');\n",
              "          const dataTable =\n",
              "            await google.colab.kernel.invokeFunction('convertToInteractive',\n",
              "                                                     [key], {});\n",
              "          if (!dataTable) return;\n",
              "\n",
              "          const docLinkHtml = 'Like what you see? Visit the ' +\n",
              "            '<a target=\"_blank\" href=https://colab.research.google.com/notebooks/data_table.ipynb>data table notebook</a>'\n",
              "            + ' to learn more about interactive tables.';\n",
              "          element.innerHTML = '';\n",
              "          dataTable['output_type'] = 'display_data';\n",
              "          await google.colab.output.renderOutput(dataTable, element);\n",
              "          const docLink = document.createElement('div');\n",
              "          docLink.innerHTML = docLinkHtml;\n",
              "          element.appendChild(docLink);\n",
              "        }\n",
              "      </script>\n",
              "    </div>\n",
              "  </div>\n",
              "  "
            ]
          },
          "metadata": {},
          "execution_count": 21
        }
      ]
    },
    {
      "cell_type": "code",
      "source": [
        "!pip install imblearn"
      ],
      "metadata": {
        "colab": {
          "base_uri": "https://localhost:8080/"
        },
        "id": "NCSw2R5_8FRm",
        "outputId": "d9927b97-6c8b-41e2-a9fa-c6ed9cc74069"
      },
      "execution_count": 22,
      "outputs": [
        {
          "output_type": "stream",
          "name": "stdout",
          "text": [
            "Looking in indexes: https://pypi.org/simple, https://us-python.pkg.dev/colab-wheels/public/simple/\n",
            "Collecting imblearn\n",
            "  Downloading imblearn-0.0-py2.py3-none-any.whl (1.9 kB)\n",
            "Requirement already satisfied: imbalanced-learn in /usr/local/lib/python3.10/dist-packages (from imblearn) (0.10.1)\n",
            "Requirement already satisfied: numpy>=1.17.3 in /usr/local/lib/python3.10/dist-packages (from imbalanced-learn->imblearn) (1.22.4)\n",
            "Requirement already satisfied: scipy>=1.3.2 in /usr/local/lib/python3.10/dist-packages (from imbalanced-learn->imblearn) (1.10.1)\n",
            "Requirement already satisfied: scikit-learn>=1.0.2 in /usr/local/lib/python3.10/dist-packages (from imbalanced-learn->imblearn) (1.2.2)\n",
            "Requirement already satisfied: joblib>=1.1.1 in /usr/local/lib/python3.10/dist-packages (from imbalanced-learn->imblearn) (1.2.0)\n",
            "Requirement already satisfied: threadpoolctl>=2.0.0 in /usr/local/lib/python3.10/dist-packages (from imbalanced-learn->imblearn) (3.1.0)\n",
            "Installing collected packages: imblearn\n",
            "Successfully installed imblearn-0.0\n"
          ]
        }
      ]
    },
    {
      "cell_type": "code",
      "source": [
        "# here we use RandomOverSampling inbuilt class\n",
        "#that means we will craete a duplicate minority class till it match the level of\n",
        "#majority class\n",
        "from imblearn.over_sampling import RandomOverSampler"
      ],
      "metadata": {
        "id": "Ef_7T1yK9d9F"
      },
      "execution_count": 23,
      "outputs": []
    },
    {
      "cell_type": "code",
      "source": [
        "# Check how many samples of class 0 and 1 class in stroke\n",
        "df_new['stroke'].value_counts()"
      ],
      "metadata": {
        "colab": {
          "base_uri": "https://localhost:8080/"
        },
        "id": "Wtyhpshu9jX_",
        "outputId": "3ec60550-3faf-4f33-e85d-ef2a66cdaf19"
      },
      "execution_count": 24,
      "outputs": [
        {
          "output_type": "execute_result",
          "data": {
            "text/plain": [
              "0    4861\n",
              "1     249\n",
              "Name: stroke, dtype: int64"
            ]
          },
          "metadata": {},
          "execution_count": 24
        }
      ]
    },
    {
      "cell_type": "code",
      "source": [
        "##select input and output\n",
        "x=df_new.drop('stroke',axis=1) #input\n",
        "y=df_new['stroke'] # output"
      ],
      "metadata": {
        "id": "QbC_QVs8_V4L"
      },
      "execution_count": 25,
      "outputs": []
    },
    {
      "cell_type": "code",
      "source": [
        "from sklearn.model_selection import train_test_split\n",
        "#train test split\n",
        "x_train,x_test,y_train,y_test=train_test_split(x,y,test_size=0.3,random_state=1)"
      ],
      "metadata": {
        "id": "KdUzkdZrDBxs"
      },
      "execution_count": 26,
      "outputs": []
    },
    {
      "cell_type": "code",
      "source": [
        "#Applying Scaling\n",
        "\n",
        "from sklearn.preprocessing import StandardScaler"
      ],
      "metadata": {
        "id": "i8ZRTbyqDJzy"
      },
      "execution_count": 27,
      "outputs": []
    },
    {
      "cell_type": "code",
      "source": [
        "#Creating object of StandardScaler Class\n",
        "\n",
        "ss=StandardScaler()\n",
        "x_train=ss.fit_transform(x_train)\n",
        "x_test=ss.transform(x_test)"
      ],
      "metadata": {
        "id": "WO7YzWpLDL84"
      },
      "execution_count": 28,
      "outputs": []
    },
    {
      "cell_type": "code",
      "source": [
        "df_new['gender'].value_counts()"
      ],
      "metadata": {
        "colab": {
          "base_uri": "https://localhost:8080/"
        },
        "id": "FeGbLvNFDNXH",
        "outputId": "10f31e6f-d2be-431c-e663-957a2e95eb0c"
      },
      "execution_count": 29,
      "outputs": [
        {
          "output_type": "execute_result",
          "data": {
            "text/plain": [
              "0    2994\n",
              "1    2115\n",
              "2       1\n",
              "Name: gender, dtype: int64"
            ]
          },
          "metadata": {},
          "execution_count": 29
        }
      ]
    },
    {
      "cell_type": "code",
      "source": [
        "#create a nural network architecture\n",
        "import tensorflow as tf"
      ],
      "metadata": {
        "id": "P4N93UWnDsPl"
      },
      "execution_count": 30,
      "outputs": []
    },
    {
      "cell_type": "code",
      "source": [
        "x.shape"
      ],
      "metadata": {
        "colab": {
          "base_uri": "https://localhost:8080/"
        },
        "id": "DszJ1JSXER8d",
        "outputId": "954211cd-55ad-44b0-9846-cd85e4385629"
      },
      "execution_count": 31,
      "outputs": [
        {
          "output_type": "execute_result",
          "data": {
            "text/plain": [
              "(5110, 10)"
            ]
          },
          "metadata": {},
          "execution_count": 31
        }
      ]
    },
    {
      "cell_type": "code",
      "source": [
        "model=tf.keras.Sequential([\n",
        "                          tf.keras.layers.Dense(units=10,activation='relu',input_shape=(x.shape[1],)),\n",
        "                           #First hidden layer\n",
        "                           tf.keras.layers.Dense(units=10,activation='relu'), #second hidden layer\n",
        "                           tf.keras.layers.Dense(units=1,activation='sigmoid') #output layer\n",
        "])"
      ],
      "metadata": {
        "id": "kQaiIIk9EVIR"
      },
      "execution_count": 32,
      "outputs": []
    },
    {
      "cell_type": "code",
      "source": [
        "#to show model summary\n",
        "model.summary()"
      ],
      "metadata": {
        "colab": {
          "base_uri": "https://localhost:8080/"
        },
        "id": "iMYQ0L0dEeXg",
        "outputId": "cd606639-3dd2-46d7-db73-0721eff735c1"
      },
      "execution_count": 33,
      "outputs": [
        {
          "output_type": "stream",
          "name": "stdout",
          "text": [
            "Model: \"sequential\"\n",
            "_________________________________________________________________\n",
            " Layer (type)                Output Shape              Param #   \n",
            "=================================================================\n",
            " dense (Dense)               (None, 10)                110       \n",
            "                                                                 \n",
            " dense_1 (Dense)             (None, 10)                110       \n",
            "                                                                 \n",
            " dense_2 (Dense)             (None, 1)                 11        \n",
            "                                                                 \n",
            "=================================================================\n",
            "Total params: 231\n",
            "Trainable params: 231\n",
            "Non-trainable params: 0\n",
            "_________________________________________________________________\n"
          ]
        }
      ]
    },
    {
      "cell_type": "code",
      "source": [
        "model.layers[0].weights\n",
        "#to see weight of first hidden layer"
      ],
      "metadata": {
        "colab": {
          "base_uri": "https://localhost:8080/"
        },
        "id": "3THoJx9oEgcy",
        "outputId": "e5184476-4192-4264-ed84-4679c49e809f"
      },
      "execution_count": 34,
      "outputs": [
        {
          "output_type": "execute_result",
          "data": {
            "text/plain": [
              "[<tf.Variable 'dense/kernel:0' shape=(10, 10) dtype=float32, numpy=\n",
              " array([[-0.30369577, -0.22067362, -0.40924907, -0.04662997, -0.53405243,\n",
              "          0.02606589,  0.45088887,  0.06674522, -0.1675412 , -0.15027013],\n",
              "        [ 0.06909817,  0.21096551, -0.33432907, -0.50358987, -0.16871792,\n",
              "          0.24370086, -0.44638988,  0.34199387, -0.50773126, -0.00322616],\n",
              "        [-0.19011426,  0.28461385,  0.21509379, -0.48511043, -0.1705583 ,\n",
              "         -0.35763875, -0.03206545, -0.14524108,  0.2923519 , -0.4134691 ],\n",
              "        [-0.04823709, -0.30842775, -0.21584961,  0.24294204, -0.12595257,\n",
              "         -0.18949437, -0.4255275 ,  0.08851701,  0.23391598, -0.04791874],\n",
              "        [-0.34503   ,  0.20243645, -0.38370907, -0.42616165, -0.19304124,\n",
              "         -0.00192511,  0.35084832, -0.34928116,  0.31086904,  0.37213004],\n",
              "        [ 0.49300146,  0.21583408,  0.12174922, -0.05532029, -0.08067691,\n",
              "         -0.24322644, -0.21700516, -0.25352508, -0.4896439 ,  0.30476147],\n",
              "        [ 0.2988168 ,  0.19221854, -0.293528  , -0.376112  ,  0.2820589 ,\n",
              "         -0.34638917, -0.14658809,  0.40876877, -0.5341197 , -0.54017085],\n",
              "        [-0.39997762,  0.03300959, -0.07929766, -0.5140817 ,  0.54450595,\n",
              "          0.18978947,  0.5238465 ,  0.4986496 ,  0.31619376, -0.14614698],\n",
              "        [ 0.17059773, -0.17253774, -0.00590438,  0.4188984 , -0.4435905 ,\n",
              "         -0.4978752 , -0.44379616, -0.0746468 ,  0.1110394 , -0.3420077 ],\n",
              "        [-0.45262516, -0.37948743,  0.5414735 ,  0.03540236,  0.06136566,\n",
              "          0.3893119 , -0.23694101,  0.03072953, -0.38571018,  0.2984826 ]],\n",
              "       dtype=float32)>,\n",
              " <tf.Variable 'dense/bias:0' shape=(10,) dtype=float32, numpy=array([0., 0., 0., 0., 0., 0., 0., 0., 0., 0.], dtype=float32)>]"
            ]
          },
          "metadata": {},
          "execution_count": 34
        }
      ]
    },
    {
      "cell_type": "code",
      "source": [
        "#complie the model\n",
        "#use inbuilt method compile() of sequential class\n",
        "model.compile(optimizer='sgd',loss='binary_crossentropy',metrics=['accuracy'])\n"
      ],
      "metadata": {
        "id": "-QJB0labEnta"
      },
      "execution_count": 86,
      "outputs": []
    },
    {
      "cell_type": "code",
      "source": [
        "#create ca procedure of call back\n",
        "#Early Stopping :\n",
        "#EarlyStopping : for decide epoch\n",
        "#create a procedure for callback\n",
        "from tensorflow.keras.callbacks import EarlyStopping\n",
        "#create callback : -\n",
        "#EarlyStopping() inbuilt function\n",
        "cb=EarlyStopping(\n",
        "    monitor=\"val_loss\",  #val_loss means testing error\n",
        "    min_delta=0.00001, #value of lambda\n",
        "    patience=20,\n",
        "    verbose=1,\n",
        "    mode=\"auto\", #min loss\n",
        "    baseline=None,\n",
        "    restore_best_weights=False\n",
        ")"
      ],
      "metadata": {
        "id": "eAjOZWl0EqVh"
      },
      "execution_count": 87,
      "outputs": []
    },
    {
      "cell_type": "code",
      "source": [
        "#traing the model\n",
        "trained_model=model.fit(x_train,y_train,epochs=4000,callbacks=cb,validation_data=(x_test,y_test))"
      ],
      "metadata": {
        "colab": {
          "base_uri": "https://localhost:8080/"
        },
        "id": "3f7dSJYREs7_",
        "outputId": "3ab864cc-9210-4b7e-cd98-abc7efbb0a90"
      },
      "execution_count": 88,
      "outputs": [
        {
          "output_type": "stream",
          "name": "stdout",
          "text": [
            "Epoch 1/4000\n",
            "112/112 [==============================] - 3s 4ms/step - loss: 0.2479 - accuracy: 0.8789 - val_loss: 0.2036 - val_accuracy: 0.9263\n",
            "Epoch 2/4000\n",
            "112/112 [==============================] - 0s 2ms/step - loss: 0.1593 - accuracy: 0.9474 - val_loss: 0.1922 - val_accuracy: 0.9387\n",
            "Epoch 3/4000\n",
            "112/112 [==============================] - 0s 2ms/step - loss: 0.1529 - accuracy: 0.9528 - val_loss: 0.1897 - val_accuracy: 0.9406\n",
            "Epoch 4/4000\n",
            "112/112 [==============================] - 0s 2ms/step - loss: 0.1505 - accuracy: 0.9539 - val_loss: 0.1879 - val_accuracy: 0.9419\n",
            "Epoch 5/4000\n",
            "112/112 [==============================] - 0s 1ms/step - loss: 0.1486 - accuracy: 0.9544 - val_loss: 0.1857 - val_accuracy: 0.9413\n",
            "Epoch 6/4000\n",
            "112/112 [==============================] - 0s 2ms/step - loss: 0.1478 - accuracy: 0.9544 - val_loss: 0.1850 - val_accuracy: 0.9406\n",
            "Epoch 7/4000\n",
            "112/112 [==============================] - 0s 2ms/step - loss: 0.1465 - accuracy: 0.9547 - val_loss: 0.1846 - val_accuracy: 0.9413\n",
            "Epoch 8/4000\n",
            "112/112 [==============================] - 0s 2ms/step - loss: 0.1460 - accuracy: 0.9542 - val_loss: 0.1835 - val_accuracy: 0.9413\n",
            "Epoch 9/4000\n",
            "112/112 [==============================] - 0s 2ms/step - loss: 0.1451 - accuracy: 0.9544 - val_loss: 0.1836 - val_accuracy: 0.9419\n",
            "Epoch 10/4000\n",
            "112/112 [==============================] - 0s 2ms/step - loss: 0.1443 - accuracy: 0.9547 - val_loss: 0.1830 - val_accuracy: 0.9419\n",
            "Epoch 11/4000\n",
            "112/112 [==============================] - 0s 2ms/step - loss: 0.1440 - accuracy: 0.9550 - val_loss: 0.1832 - val_accuracy: 0.9419\n",
            "Epoch 12/4000\n",
            "112/112 [==============================] - 0s 2ms/step - loss: 0.1441 - accuracy: 0.9547 - val_loss: 0.1829 - val_accuracy: 0.9426\n",
            "Epoch 13/4000\n",
            "112/112 [==============================] - 0s 2ms/step - loss: 0.1436 - accuracy: 0.9550 - val_loss: 0.1842 - val_accuracy: 0.9426\n",
            "Epoch 14/4000\n",
            "112/112 [==============================] - 0s 2ms/step - loss: 0.1430 - accuracy: 0.9553 - val_loss: 0.1847 - val_accuracy: 0.9426\n",
            "Epoch 15/4000\n",
            "112/112 [==============================] - 0s 2ms/step - loss: 0.1430 - accuracy: 0.9553 - val_loss: 0.1833 - val_accuracy: 0.9413\n",
            "Epoch 16/4000\n",
            "112/112 [==============================] - 0s 2ms/step - loss: 0.1428 - accuracy: 0.9550 - val_loss: 0.1836 - val_accuracy: 0.9426\n",
            "Epoch 17/4000\n",
            "112/112 [==============================] - 0s 2ms/step - loss: 0.1420 - accuracy: 0.9553 - val_loss: 0.1840 - val_accuracy: 0.9426\n",
            "Epoch 18/4000\n",
            "112/112 [==============================] - 0s 2ms/step - loss: 0.1417 - accuracy: 0.9550 - val_loss: 0.1831 - val_accuracy: 0.9419\n",
            "Epoch 19/4000\n",
            "112/112 [==============================] - 0s 2ms/step - loss: 0.1416 - accuracy: 0.9550 - val_loss: 0.1843 - val_accuracy: 0.9439\n",
            "Epoch 20/4000\n",
            "112/112 [==============================] - 0s 2ms/step - loss: 0.1415 - accuracy: 0.9553 - val_loss: 0.1832 - val_accuracy: 0.9413\n",
            "Epoch 21/4000\n",
            "112/112 [==============================] - 0s 2ms/step - loss: 0.1414 - accuracy: 0.9553 - val_loss: 0.1836 - val_accuracy: 0.9426\n",
            "Epoch 22/4000\n",
            "112/112 [==============================] - 0s 2ms/step - loss: 0.1411 - accuracy: 0.9550 - val_loss: 0.1832 - val_accuracy: 0.9419\n",
            "Epoch 23/4000\n",
            "112/112 [==============================] - 0s 2ms/step - loss: 0.1406 - accuracy: 0.9547 - val_loss: 0.1846 - val_accuracy: 0.9439\n",
            "Epoch 24/4000\n",
            "112/112 [==============================] - 0s 2ms/step - loss: 0.1408 - accuracy: 0.9553 - val_loss: 0.1850 - val_accuracy: 0.9439\n",
            "Epoch 25/4000\n",
            "112/112 [==============================] - 0s 2ms/step - loss: 0.1406 - accuracy: 0.9550 - val_loss: 0.1833 - val_accuracy: 0.9419\n",
            "Epoch 26/4000\n",
            "112/112 [==============================] - 0s 2ms/step - loss: 0.1405 - accuracy: 0.9553 - val_loss: 0.1837 - val_accuracy: 0.9419\n",
            "Epoch 27/4000\n",
            "112/112 [==============================] - 0s 2ms/step - loss: 0.1401 - accuracy: 0.9553 - val_loss: 0.1850 - val_accuracy: 0.9432\n",
            "Epoch 28/4000\n",
            "112/112 [==============================] - 0s 2ms/step - loss: 0.1402 - accuracy: 0.9555 - val_loss: 0.1835 - val_accuracy: 0.9419\n",
            "Epoch 29/4000\n",
            "112/112 [==============================] - 0s 2ms/step - loss: 0.1400 - accuracy: 0.9550 - val_loss: 0.1867 - val_accuracy: 0.9439\n",
            "Epoch 30/4000\n",
            "112/112 [==============================] - 0s 2ms/step - loss: 0.1398 - accuracy: 0.9561 - val_loss: 0.1837 - val_accuracy: 0.9400\n",
            "Epoch 31/4000\n",
            "112/112 [==============================] - 0s 2ms/step - loss: 0.1401 - accuracy: 0.9558 - val_loss: 0.1842 - val_accuracy: 0.9439\n",
            "Epoch 32/4000\n",
            "112/112 [==============================] - 0s 2ms/step - loss: 0.1401 - accuracy: 0.9553 - val_loss: 0.1836 - val_accuracy: 0.9413\n",
            "Epoch 32: early stopping\n"
          ]
        }
      ]
    },
    {
      "cell_type": "code",
      "source": [
        "#visualisation\n",
        "plt.plot(trained_model.history['loss'],color='red',label='Training Loss')\n",
        "plt.plot(trained_model.history['val_loss'],color='blue',label='Testing Loss')\n",
        "plt.legend()\n",
        "plt.show()"
      ],
      "metadata": {
        "colab": {
          "base_uri": "https://localhost:8080/",
          "height": 430
        },
        "id": "5qXi7x4AExtI",
        "outputId": "536b9d65-98ce-4132-bdae-9699dbe8f09c"
      },
      "execution_count": 89,
      "outputs": [
        {
          "output_type": "display_data",
          "data": {
            "text/plain": [
              "<Figure size 640x480 with 1 Axes>"
            ],
            "image/png": "[encoded data removed]"
          },
          "metadata": {}
        }
      ]
    },
    {
      "cell_type": "code",
      "source": [
        "#visualisation\n",
        "plt.plot(trained_model.history['accuracy'],color='red',label='Training accuracy')\n",
        "plt.plot(trained_model.history['val_accuracy'],color='blue',label='Testing accuracy')\n",
        "plt.legend()\n",
        "plt.show()"
      ],
      "metadata": {
        "colab": {
          "base_uri": "https://localhost:8080/",
          "height": 430
        },
        "id": "se2UWHS2FNKi",
        "outputId": "fb1e4073-2561-45fc-dd9a-2a29fb78d870"
      },
      "execution_count": 90,
      "outputs": [
        {
          "output_type": "display_data",
          "data": {
            "text/plain": [
              "<Figure size 640x480 with 1 Axes>"
            ],
            "image/png": "[encoded data removed]"
          },
          "metadata": {}
        }
      ]
    },
    {
      "cell_type": "code",
      "source": [
        "#training evaluation\n",
        "model.evaluate(x_train,y_train)"
      ],
      "metadata": {
        "colab": {
          "base_uri": "https://localhost:8080/"
        },
        "id": "9gCaFL-aFZbK",
        "outputId": "9e6210f9-67f5-4cac-b5c5-806d9ed79227"
      },
      "execution_count": 91,
      "outputs": [
        {
          "output_type": "stream",
          "name": "stdout",
          "text": [
            "112/112 [==============================] - 0s 834us/step - loss: 0.1381 - accuracy: 0.9555\n"
          ]
        },
        {
          "output_type": "execute_result",
          "data": {
            "text/plain": [
              "[0.13813279569149017, 0.9555493593215942]"
            ]
          },
          "metadata": {},
          "execution_count": 91
        }
      ]
    },
    {
      "cell_type": "code",
      "source": [
        "#testing evaluation\n",
        "model.evaluate(x_test,y_test)"
      ],
      "metadata": {
        "colab": {
          "base_uri": "https://localhost:8080/"
        },
        "id": "OXqPrdumFmUL",
        "outputId": "a81fa19e-e29d-4c30-8534-9465567d9e07"
      },
      "execution_count": 92,
      "outputs": [
        {
          "output_type": "stream",
          "name": "stdout",
          "text": [
            "48/48 [==============================] - 0s 899us/step - loss: 0.1836 - accuracy: 0.9413\n"
          ]
        },
        {
          "output_type": "execute_result",
          "data": {
            "text/plain": [
              "[0.18355262279510498, 0.9412915706634521]"
            ]
          },
          "metadata": {},
          "execution_count": 92
        }
      ]
    },
    {
      "cell_type": "code",
      "source": [
        "#test the model with 30% data\n",
        "y_pred=model.predict(x_test).round(2) #y_pred=(1/(1+np.exp(-x_test)))\n",
        "#it will give probability value range (0  -  1)\n",
        "print(y_pred)"
      ],
      "metadata": {
        "colab": {
          "base_uri": "https://localhost:8080/"
        },
        "id": "M4nEhqtQFn-i",
        "outputId": "00025bb9-fd1f-457d-d77f-bc28f99dae1d"
      },
      "execution_count": 93,
      "outputs": [
        {
          "output_type": "stream",
          "name": "stdout",
          "text": [
            "48/48 [==============================] - 0s 754us/step\n",
            "[[0.03]\n",
            " [0.16]\n",
            " [0.  ]\n",
            " ...\n",
            " [0.05]\n",
            " [0.5 ]\n",
            " [0.01]]\n"
          ]
        }
      ]
    },
    {
      "cell_type": "code",
      "source": [
        "#condition apply\n",
        "y_pred=np.where(y_pred>=0.5,1,0)\n",
        "print(y_pred)"
      ],
      "metadata": {
        "colab": {
          "base_uri": "https://localhost:8080/"
        },
        "id": "3-tBWxdsFqwW",
        "outputId": "a59d4c90-8037-422c-d0e9-c54c7e27e278"
      },
      "execution_count": 94,
      "outputs": [
        {
          "output_type": "stream",
          "name": "stdout",
          "text": [
            "[[0]\n",
            " [0]\n",
            " [0]\n",
            " ...\n",
            " [0]\n",
            " [1]\n",
            " [0]]\n"
          ]
        }
      ]
    },
    {
      "cell_type": "code",
      "source": [
        "#classification report and confusion matrix\n",
        "from sklearn.metrics import classification_report\n",
        "from sklearn.metrics import confusion_matrix\n",
        "print(classification_report(y_test,y_pred))\n",
        "print(confusion_matrix(y_test,y_pred))"
      ],
      "metadata": {
        "colab": {
          "base_uri": "https://localhost:8080/"
        },
        "id": "AlaoKHrxFv3n",
        "outputId": "1225bf35-8214-4d34-912a-5164f0107a1c"
      },
      "execution_count": 95,
      "outputs": [
        {
          "output_type": "stream",
          "name": "stdout",
          "text": [
            "              precision    recall  f1-score   support\n",
            "\n",
            "           0       0.95      0.99      0.97      1450\n",
            "           1       0.10      0.01      0.02        83\n",
            "\n",
            "    accuracy                           0.94      1533\n",
            "   macro avg       0.52      0.50      0.50      1533\n",
            "weighted avg       0.90      0.94      0.92      1533\n",
            "\n",
            "[[1441    9]\n",
            " [  82    1]]\n"
          ]
        }
      ]
    },
    {
      "cell_type": "markdown",
      "source": [
        "Here as we can see Acuuracy of the model is 95% and we will try ti imporve the accuracy as we already checked the target data is not balanced so now we will apply RandomOverSampler it will take the level of minority class to majority class."
      ],
      "metadata": {
        "id": "t2XCMyuEGAJJ"
      }
    },
    {
      "cell_type": "code",
      "source": [
        "#first instal imblearn package\n",
        "#!pip install imblearn"
      ],
      "metadata": {
        "id": "FhQIKH2jGUO8"
      },
      "execution_count": 96,
      "outputs": []
    },
    {
      "cell_type": "code",
      "source": [
        "# here we use RandomOverSampling inbuilt class\n",
        "#that means we will craete a duplicate minority class till it match the level of\n",
        "#majority class\n",
        "from imblearn.over_sampling import RandomOverSampler"
      ],
      "metadata": {
        "id": "gdFB9B9OGfVx"
      },
      "execution_count": 97,
      "outputs": []
    },
    {
      "cell_type": "code",
      "source": [
        "# Check how many samples of class 0 and 1 class in Y_train\n",
        "y_train.value_counts()"
      ],
      "metadata": {
        "colab": {
          "base_uri": "https://localhost:8080/"
        },
        "id": "ezC5Zlu_Ghmz",
        "outputId": "ac36c743-1e4f-4083-b1de-cbc23571d7a0"
      },
      "execution_count": 98,
      "outputs": [
        {
          "output_type": "execute_result",
          "data": {
            "text/plain": [
              "0    3411\n",
              "1     166\n",
              "Name: stroke, dtype: int64"
            ]
          },
          "metadata": {},
          "execution_count": 98
        }
      ]
    },
    {
      "cell_type": "code",
      "source": [
        "#now apply RandomOverSampler class\n",
        "ros=RandomOverSampler(random_state=1)"
      ],
      "metadata": {
        "id": "kA82RefwGlBB"
      },
      "execution_count": 99,
      "outputs": []
    },
    {
      "cell_type": "code",
      "source": [
        "#use inbuilt method of fit_resample() of RandomOverSampler class\n",
        "x_train_ros,y_train_ros=ros.fit_resample(x_train,y_train)"
      ],
      "metadata": {
        "id": "yCeT1finGpFJ"
      },
      "execution_count": 100,
      "outputs": []
    },
    {
      "cell_type": "code",
      "source": [
        "#now will check if the training data is balanced or not\n",
        "y_train_ros.value_counts()"
      ],
      "metadata": {
        "colab": {
          "base_uri": "https://localhost:8080/"
        },
        "id": "M2Deyix6GqvE",
        "outputId": "3552194a-9caa-4839-9334-82e9eb40cd99"
      },
      "execution_count": 101,
      "outputs": [
        {
          "output_type": "execute_result",
          "data": {
            "text/plain": [
              "0    3411\n",
              "1    3411\n",
              "Name: stroke, dtype: int64"
            ]
          },
          "metadata": {},
          "execution_count": 101
        }
      ]
    },
    {
      "cell_type": "code",
      "source": [
        "#As it is we will check how many samples of class 0 and 1 class in y_test\n",
        "y_test.value_counts()"
      ],
      "metadata": {
        "colab": {
          "base_uri": "https://localhost:8080/"
        },
        "id": "kb4TFKnoGscU",
        "outputId": "3a453946-397d-4453-81e0-8f9ec1de010b"
      },
      "execution_count": 102,
      "outputs": [
        {
          "output_type": "execute_result",
          "data": {
            "text/plain": [
              "0    1450\n",
              "1      83\n",
              "Name: stroke, dtype: int64"
            ]
          },
          "metadata": {},
          "execution_count": 102
        }
      ]
    },
    {
      "cell_type": "code",
      "source": [
        "# Now apply RandomOverSampler on testing data\n",
        "x_test_ros,y_test_ros=ros.fit_resample(x_test,y_test)"
      ],
      "metadata": {
        "id": "vFlwHZgaGuaG"
      },
      "execution_count": 103,
      "outputs": []
    },
    {
      "cell_type": "code",
      "source": [
        "#again Check\n",
        "y_test_ros.value_counts()"
      ],
      "metadata": {
        "colab": {
          "base_uri": "https://localhost:8080/"
        },
        "id": "kurNxrOCGwnL",
        "outputId": "39cbff6b-6dbe-4769-eedb-f7ab61a8b978"
      },
      "execution_count": 104,
      "outputs": [
        {
          "output_type": "execute_result",
          "data": {
            "text/plain": [
              "0    1450\n",
              "1    1450\n",
              "Name: stroke, dtype: int64"
            ]
          },
          "metadata": {},
          "execution_count": 104
        }
      ]
    },
    {
      "cell_type": "code",
      "source": [
        "x_test_ros.shape"
      ],
      "metadata": {
        "colab": {
          "base_uri": "https://localhost:8080/"
        },
        "id": "b5aQzvh1GyXa",
        "outputId": "9a6c7cf6-4ab6-4b40-d57c-9ce302e2e2c4"
      },
      "execution_count": 105,
      "outputs": [
        {
          "output_type": "execute_result",
          "data": {
            "text/plain": [
              "(2900, 10)"
            ]
          },
          "metadata": {},
          "execution_count": 105
        }
      ]
    },
    {
      "cell_type": "code",
      "source": [
        "x.shape"
      ],
      "metadata": {
        "colab": {
          "base_uri": "https://localhost:8080/"
        },
        "id": "B4OMGyDRH17g",
        "outputId": "c9326b00-2bdf-4f6e-a4f5-d2bd4e04b0e4"
      },
      "execution_count": 106,
      "outputs": [
        {
          "output_type": "execute_result",
          "data": {
            "text/plain": [
              "(5110, 10)"
            ]
          },
          "metadata": {},
          "execution_count": 106
        }
      ]
    },
    {
      "cell_type": "code",
      "source": [
        "x_train.shape"
      ],
      "metadata": {
        "colab": {
          "base_uri": "https://localhost:8080/"
        },
        "id": "1HSVlPecOTkM",
        "outputId": "e01d599a-e2c6-43cd-8789-af435841f985"
      },
      "execution_count": 107,
      "outputs": [
        {
          "output_type": "execute_result",
          "data": {
            "text/plain": [
              "(3577, 10)"
            ]
          },
          "metadata": {},
          "execution_count": 107
        }
      ]
    },
    {
      "cell_type": "code",
      "source": [
        "x_train_ros.shape"
      ],
      "metadata": {
        "colab": {
          "base_uri": "https://localhost:8080/"
        },
        "id": "aDgU0N_ZOeF-",
        "outputId": "7795f2cb-0b68-45d0-85e5-ab938d1cb7f5"
      },
      "execution_count": 108,
      "outputs": [
        {
          "output_type": "execute_result",
          "data": {
            "text/plain": [
              "(6822, 10)"
            ]
          },
          "metadata": {},
          "execution_count": 108
        }
      ]
    },
    {
      "cell_type": "code",
      "source": [
        "x_test.shape"
      ],
      "metadata": {
        "colab": {
          "base_uri": "https://localhost:8080/"
        },
        "id": "DVMm4fZVOhEk",
        "outputId": "654ec95a-547a-4e84-aa1b-4a11a89568d6"
      },
      "execution_count": 109,
      "outputs": [
        {
          "output_type": "execute_result",
          "data": {
            "text/plain": [
              "(1533, 10)"
            ]
          },
          "metadata": {},
          "execution_count": 109
        }
      ]
    },
    {
      "cell_type": "code",
      "source": [
        "x_test_ros.shape"
      ],
      "metadata": {
        "colab": {
          "base_uri": "https://localhost:8080/"
        },
        "id": "G6ypmix0Oouh",
        "outputId": "9f30e1d3-86e9-4ba1-c3f5-3cb7a98f1b27"
      },
      "execution_count": 110,
      "outputs": [
        {
          "output_type": "execute_result",
          "data": {
            "text/plain": [
              "(2900, 10)"
            ]
          },
          "metadata": {},
          "execution_count": 110
        }
      ]
    },
    {
      "cell_type": "code",
      "source": [
        "#traing the model\n",
        "trained_model_1=model.fit(x_train_ros,y_train_ros,epochs=4000,callbacks=cb,validation_data=(x_test_ros,y_test_ros))"
      ],
      "metadata": {
        "colab": {
          "base_uri": "https://localhost:8080/"
        },
        "id": "fcud47PxOuGs",
        "outputId": "ccbec8ac-9286-41d7-90da-5a7a4019ac80"
      },
      "execution_count": null,
      "outputs": [
        {
          "output_type": "stream",
          "name": "stdout",
          "text": [
            "Epoch 1/4000\n",
            "214/214 [==============================] - 0s 2ms/step - loss: 0.4896 - accuracy: 0.7656 - val_loss: 0.5323 - val_accuracy: 0.7376\n",
            "Epoch 2/4000\n",
            "214/214 [==============================] - 0s 1ms/step - loss: 0.4400 - accuracy: 0.7891 - val_loss: 0.5241 - val_accuracy: 0.7355\n",
            "Epoch 3/4000\n",
            "214/214 [==============================] - 0s 2ms/step - loss: 0.4314 - accuracy: 0.7927 - val_loss: 0.5349 - val_accuracy: 0.7362\n",
            "Epoch 4/4000\n",
            "214/214 [==============================] - 0s 2ms/step - loss: 0.4248 - accuracy: 0.7979 - val_loss: 0.5270 - val_accuracy: 0.7338\n",
            "Epoch 5/4000\n",
            "214/214 [==============================] - 0s 2ms/step - loss: 0.4200 - accuracy: 0.8009 - val_loss: 0.5466 - val_accuracy: 0.7290\n",
            "Epoch 6/4000\n",
            "214/214 [==============================] - 0s 2ms/step - loss: 0.4150 - accuracy: 0.8087 - val_loss: 0.5488 - val_accuracy: 0.7179\n",
            "Epoch 7/4000\n",
            "214/214 [==============================] - 0s 2ms/step - loss: 0.4112 - accuracy: 0.8024 - val_loss: 0.5601 - val_accuracy: 0.7210\n",
            "Epoch 8/4000\n",
            "214/214 [==============================] - 0s 2ms/step - loss: 0.4075 - accuracy: 0.8077 - val_loss: 0.5584 - val_accuracy: 0.7172\n",
            "Epoch 9/4000\n",
            "214/214 [==============================] - 0s 2ms/step - loss: 0.4042 - accuracy: 0.8102 - val_loss: 0.5586 - val_accuracy: 0.7100\n",
            "Epoch 10/4000\n",
            "214/214 [==============================] - 0s 2ms/step - loss: 0.4017 - accuracy: 0.8089 - val_loss: 0.5612 - val_accuracy: 0.7414\n",
            "Epoch 11/4000\n",
            "214/214 [==============================] - 0s 1ms/step - loss: 0.3986 - accuracy: 0.8112 - val_loss: 0.5689 - val_accuracy: 0.7352\n",
            "Epoch 12/4000\n",
            "214/214 [==============================] - 0s 1ms/step - loss: 0.3949 - accuracy: 0.8178 - val_loss: 0.5720 - val_accuracy: 0.7197\n",
            "Epoch 13/4000\n",
            "214/214 [==============================] - 0s 1ms/step - loss: 0.3921 - accuracy: 0.8134 - val_loss: 0.5696 - val_accuracy: 0.7203\n",
            "Epoch 14/4000\n",
            "214/214 [==============================] - 0s 2ms/step - loss: 0.3893 - accuracy: 0.8174 - val_loss: 0.5600 - val_accuracy: 0.7179\n",
            "Epoch 15/4000\n",
            "214/214 [==============================] - 0s 1ms/step - loss: 0.3862 - accuracy: 0.8223 - val_loss: 0.5664 - val_accuracy: 0.7441\n",
            "Epoch 16/4000\n",
            "214/214 [==============================] - 0s 1ms/step - loss: 0.3831 - accuracy: 0.8244 - val_loss: 0.5777 - val_accuracy: 0.7172\n",
            "Epoch 17/4000\n",
            "214/214 [==============================] - 0s 2ms/step - loss: 0.3796 - accuracy: 0.8297 - val_loss: 0.5705 - val_accuracy: 0.7134\n",
            "Epoch 18/4000\n",
            "214/214 [==============================] - 0s 2ms/step - loss: 0.3766 - accuracy: 0.8264 - val_loss: 0.5651 - val_accuracy: 0.7238\n",
            "Epoch 19/4000\n",
            "214/214 [==============================] - 0s 2ms/step - loss: 0.3735 - accuracy: 0.8342 - val_loss: 0.5764 - val_accuracy: 0.7193\n",
            "Epoch 20/4000\n",
            "214/214 [==============================] - 0s 2ms/step - loss: 0.3711 - accuracy: 0.8352 - val_loss: 0.5788 - val_accuracy: 0.7072\n",
            "Epoch 21/4000\n",
            "145/214 [===================>..........] - ETA: 0s - loss: 0.3721 - accuracy: 0.8330"
          ]
        }
      ]
    },
    {
      "cell_type": "code",
      "source": [
        "#visualisation\n",
        "plt.plot(trained_model_1.history['loss'],color='red',label='Training Loss')\n",
        "plt.plot(trained_model_1.history['val_loss'],color='blue',label='Testing Loss')\n",
        "plt.legend()\n",
        "plt.show()"
      ],
      "metadata": {
        "id": "ObC5dhtXPVg5"
      },
      "execution_count": null,
      "outputs": []
    },
    {
      "cell_type": "code",
      "source": [
        "#visualisation\n",
        "plt.plot(trained_model_1.history['accuracy'],color='red',label='Training accuracy')\n",
        "plt.plot(trained_model_1.history['val_accuracy'],color='blue',label='Testing accuracy')\n",
        "plt.legend()\n",
        "plt.show()"
      ],
      "metadata": {
        "id": "CQSiRq4CPoRk"
      },
      "execution_count": null,
      "outputs": []
    },
    {
      "cell_type": "code",
      "source": [
        "#training evaluation\n",
        "model.evaluate(x_train_ros,y_train_ros)"
      ],
      "metadata": {
        "id": "RGD3nIrCPwYV"
      },
      "execution_count": null,
      "outputs": []
    },
    {
      "cell_type": "code",
      "source": [
        "#testing evaluation\n",
        "model.evaluate(x_test,y_test)"
      ],
      "metadata": {
        "id": "l29z0y-jQbXu"
      },
      "execution_count": null,
      "outputs": []
    },
    {
      "cell_type": "code",
      "source": [
        "#test the model with 30% data\n",
        "y_pred1=model.predict(x_test_ros).round(2) #y_pred=(1/(1+np.exp(-x_test)))\n",
        "#it will give probability value range (0  -  1)\n",
        "print(y_pred1)"
      ],
      "metadata": {
        "id": "UBLpa66FQfmp"
      },
      "execution_count": null,
      "outputs": []
    },
    {
      "cell_type": "code",
      "source": [
        "#condition apply\n",
        "y_pred1=np.where(y_pred1>=0.5,1,0)\n",
        "print(y_pred1)"
      ],
      "metadata": {
        "id": "ZteUfyCgQmLj"
      },
      "execution_count": null,
      "outputs": []
    },
    {
      "cell_type": "code",
      "source": [
        "print(classification_report(y_test_ros,y_pred1))\n",
        "print(confusion_matrix(y_test_ros,y_pred1))"
      ],
      "metadata": {
        "id": "bEtnaPb9Qplm"
      },
      "execution_count": null,
      "outputs": []
    },
    {
      "cell_type": "markdown",
      "source": [
        "Handling Overfitting by Ridg Regularization"
      ],
      "metadata": {
        "id": "CfZiV0tmW-2P"
      }
    },
    {
      "cell_type": "code",
      "source": [
        "#now we will try to reduce overfitting\n",
        "#call class regularisation: inbuilt class\n",
        "from tensorflow.keras import regularizers\n",
        "#regulizers is inbuilt class of keras"
      ],
      "metadata": {
        "id": "5naORBe_RE4j"
      },
      "execution_count": null,
      "outputs": []
    },
    {
      "cell_type": "code",
      "source": [
        "model1=tf.keras.Sequential([\n",
        "                          tf.keras.layers.Dense(units=10,activation='relu',input_shape=(x.shape[1],),\n",
        "                          kernel_regularizer=regularizers.l2(0.01)),\n",
        "                           #First hidden layer\n",
        "                           tf.keras.layers.Dense(units=10,activation='relu',kernel_regularizer=regularizers.l2(0.01)), #second hidden layer\n",
        "                           tf.keras.layers.Dense(units=1,activation='sigmoid',kernel_regularizer=regularizers.l2(0.01))]) #output layer"
      ],
      "metadata": {
        "id": "UHd6hBaPVSH7"
      },
      "execution_count": null,
      "outputs": []
    },
    {
      "cell_type": "code",
      "source": [
        "#complie the model\n",
        "#use inbuilt method compile() of sequential class\n",
        "model1.compile(optimizer='sgd',loss='binary_crossentropy',metrics=['accuracy'])"
      ],
      "metadata": {
        "id": "gNTKk7LZVf3j"
      },
      "execution_count": null,
      "outputs": []
    },
    {
      "cell_type": "code",
      "source": [
        "#train the model\n",
        "trained_model_2=model1.fit(x_train_ros,y_train_ros,epochs=4000,callbacks=cb,validation_data=(x_test_ros,y_test_ros))"
      ],
      "metadata": {
        "colab": {
          "base_uri": "https://localhost:8080/"
        },
        "id": "4fhP6jpfVryC",
        "outputId": "0b587776-cfae-47a4-f062-c57a912138b8"
      },
      "execution_count": 122,
      "outputs": [
        {
          "output_type": "stream",
          "name": "stdout",
          "text": [
            "Epoch 1/4000\n",
            "214/214 [==============================] - 1s 2ms/step - loss: 0.9067 - accuracy: 0.5427 - val_loss: 0.8337 - val_accuracy: 0.6707\n",
            "Epoch 2/4000\n",
            "214/214 [==============================] - 0s 1ms/step - loss: 0.8207 - accuracy: 0.6790 - val_loss: 0.7735 - val_accuracy: 0.7445\n",
            "Epoch 3/4000\n",
            "214/214 [==============================] - 0s 2ms/step - loss: 0.7777 - accuracy: 0.7117 - val_loss: 0.7271 - val_accuracy: 0.7700\n",
            "Epoch 4/4000\n",
            "214/214 [==============================] - 0s 1ms/step - loss: 0.7450 - accuracy: 0.7266 - val_loss: 0.6924 - val_accuracy: 0.7603\n",
            "Epoch 5/4000\n",
            "214/214 [==============================] - 0s 1ms/step - loss: 0.7204 - accuracy: 0.7372 - val_loss: 0.6669 - val_accuracy: 0.7683\n",
            "Epoch 6/4000\n",
            "214/214 [==============================] - 0s 2ms/step - loss: 0.7002 - accuracy: 0.7467 - val_loss: 0.6478 - val_accuracy: 0.7745\n",
            "Epoch 7/4000\n",
            "214/214 [==============================] - 0s 1ms/step - loss: 0.6832 - accuracy: 0.7463 - val_loss: 0.6323 - val_accuracy: 0.7797\n",
            "Epoch 8/4000\n",
            "214/214 [==============================] - 0s 2ms/step - loss: 0.6685 - accuracy: 0.7514 - val_loss: 0.6186 - val_accuracy: 0.7807\n",
            "Epoch 9/4000\n",
            "214/214 [==============================] - 0s 1ms/step - loss: 0.6559 - accuracy: 0.7507 - val_loss: 0.6079 - val_accuracy: 0.7903\n",
            "Epoch 10/4000\n",
            "214/214 [==============================] - 0s 2ms/step - loss: 0.6446 - accuracy: 0.7476 - val_loss: 0.5984 - val_accuracy: 0.7834\n",
            "Epoch 11/4000\n",
            "214/214 [==============================] - 0s 1ms/step - loss: 0.6343 - accuracy: 0.7499 - val_loss: 0.5905 - val_accuracy: 0.7797\n",
            "Epoch 12/4000\n",
            "214/214 [==============================] - 0s 1ms/step - loss: 0.6250 - accuracy: 0.7529 - val_loss: 0.5830 - val_accuracy: 0.7776\n",
            "Epoch 13/4000\n",
            "214/214 [==============================] - 0s 2ms/step - loss: 0.6167 - accuracy: 0.7549 - val_loss: 0.5770 - val_accuracy: 0.7810\n",
            "Epoch 14/4000\n",
            "214/214 [==============================] - 0s 1ms/step - loss: 0.6096 - accuracy: 0.7529 - val_loss: 0.5720 - val_accuracy: 0.7797\n",
            "Epoch 15/4000\n",
            "214/214 [==============================] - 0s 2ms/step - loss: 0.6033 - accuracy: 0.7558 - val_loss: 0.5675 - val_accuracy: 0.7810\n",
            "Epoch 16/4000\n",
            "214/214 [==============================] - 0s 1ms/step - loss: 0.5974 - accuracy: 0.7558 - val_loss: 0.5641 - val_accuracy: 0.7824\n",
            "Epoch 17/4000\n",
            "214/214 [==============================] - 0s 2ms/step - loss: 0.5920 - accuracy: 0.7556 - val_loss: 0.5615 - val_accuracy: 0.7783\n",
            "Epoch 18/4000\n",
            "214/214 [==============================] - 0s 1ms/step - loss: 0.5871 - accuracy: 0.7589 - val_loss: 0.5574 - val_accuracy: 0.7772\n",
            "Epoch 19/4000\n",
            "214/214 [==============================] - 0s 2ms/step - loss: 0.5828 - accuracy: 0.7596 - val_loss: 0.5544 - val_accuracy: 0.7741\n",
            "Epoch 20/4000\n",
            "214/214 [==============================] - 0s 2ms/step - loss: 0.5788 - accuracy: 0.7586 - val_loss: 0.5510 - val_accuracy: 0.7803\n",
            "Epoch 21/4000\n",
            "214/214 [==============================] - 0s 2ms/step - loss: 0.5753 - accuracy: 0.7590 - val_loss: 0.5471 - val_accuracy: 0.7828\n",
            "Epoch 22/4000\n",
            "214/214 [==============================] - 0s 2ms/step - loss: 0.5726 - accuracy: 0.7595 - val_loss: 0.5442 - val_accuracy: 0.7755\n",
            "Epoch 23/4000\n",
            "214/214 [==============================] - 0s 2ms/step - loss: 0.5698 - accuracy: 0.7587 - val_loss: 0.5414 - val_accuracy: 0.7879\n",
            "Epoch 24/4000\n",
            "214/214 [==============================] - 0s 1ms/step - loss: 0.5673 - accuracy: 0.7617 - val_loss: 0.5396 - val_accuracy: 0.7762\n",
            "Epoch 25/4000\n",
            "214/214 [==============================] - 0s 2ms/step - loss: 0.5651 - accuracy: 0.7592 - val_loss: 0.5381 - val_accuracy: 0.7800\n",
            "Epoch 26/4000\n",
            "214/214 [==============================] - 0s 1ms/step - loss: 0.5630 - accuracy: 0.7597 - val_loss: 0.5361 - val_accuracy: 0.7762\n",
            "Epoch 27/4000\n",
            "214/214 [==============================] - 0s 1ms/step - loss: 0.5613 - accuracy: 0.7617 - val_loss: 0.5351 - val_accuracy: 0.7752\n",
            "Epoch 28/4000\n",
            "214/214 [==============================] - 0s 1ms/step - loss: 0.5595 - accuracy: 0.7633 - val_loss: 0.5338 - val_accuracy: 0.7769\n",
            "Epoch 29/4000\n",
            "214/214 [==============================] - 0s 2ms/step - loss: 0.5580 - accuracy: 0.7621 - val_loss: 0.5318 - val_accuracy: 0.7759\n",
            "Epoch 30/4000\n",
            "214/214 [==============================] - 0s 2ms/step - loss: 0.5567 - accuracy: 0.7627 - val_loss: 0.5314 - val_accuracy: 0.7766\n",
            "Epoch 31/4000\n",
            "214/214 [==============================] - 0s 2ms/step - loss: 0.5553 - accuracy: 0.7658 - val_loss: 0.5288 - val_accuracy: 0.7721\n",
            "Epoch 32/4000\n",
            "214/214 [==============================] - 0s 1ms/step - loss: 0.5541 - accuracy: 0.7627 - val_loss: 0.5281 - val_accuracy: 0.7703\n",
            "Epoch 33/4000\n",
            "214/214 [==============================] - 0s 1ms/step - loss: 0.5531 - accuracy: 0.7677 - val_loss: 0.5265 - val_accuracy: 0.7710\n",
            "Epoch 34/4000\n",
            "214/214 [==============================] - 0s 2ms/step - loss: 0.5522 - accuracy: 0.7652 - val_loss: 0.5269 - val_accuracy: 0.7769\n",
            "Epoch 35/4000\n",
            "214/214 [==============================] - 0s 2ms/step - loss: 0.5513 - accuracy: 0.7652 - val_loss: 0.5252 - val_accuracy: 0.7728\n",
            "Epoch 36/4000\n",
            "214/214 [==============================] - 0s 1ms/step - loss: 0.5505 - accuracy: 0.7674 - val_loss: 0.5247 - val_accuracy: 0.7683\n",
            "Epoch 37/4000\n",
            "214/214 [==============================] - 0s 2ms/step - loss: 0.5498 - accuracy: 0.7665 - val_loss: 0.5244 - val_accuracy: 0.7752\n",
            "Epoch 38/4000\n",
            "214/214 [==============================] - 0s 1ms/step - loss: 0.5492 - accuracy: 0.7672 - val_loss: 0.5240 - val_accuracy: 0.7728\n",
            "Epoch 39/4000\n",
            "214/214 [==============================] - 0s 2ms/step - loss: 0.5486 - accuracy: 0.7656 - val_loss: 0.5224 - val_accuracy: 0.7762\n",
            "Epoch 40/4000\n",
            "214/214 [==============================] - 0s 1ms/step - loss: 0.5479 - accuracy: 0.7694 - val_loss: 0.5220 - val_accuracy: 0.7672\n",
            "Epoch 41/4000\n",
            "214/214 [==============================] - 0s 1ms/step - loss: 0.5475 - accuracy: 0.7665 - val_loss: 0.5210 - val_accuracy: 0.7724\n",
            "Epoch 42/4000\n",
            "214/214 [==============================] - 0s 2ms/step - loss: 0.5470 - accuracy: 0.7649 - val_loss: 0.5212 - val_accuracy: 0.7776\n",
            "Epoch 43/4000\n",
            "214/214 [==============================] - 0s 1ms/step - loss: 0.5465 - accuracy: 0.7690 - val_loss: 0.5201 - val_accuracy: 0.7707\n",
            "Epoch 44/4000\n",
            "214/214 [==============================] - 0s 1ms/step - loss: 0.5462 - accuracy: 0.7668 - val_loss: 0.5201 - val_accuracy: 0.7755\n",
            "Epoch 45/4000\n",
            "214/214 [==============================] - 0s 2ms/step - loss: 0.5458 - accuracy: 0.7669 - val_loss: 0.5193 - val_accuracy: 0.7755\n",
            "Epoch 46/4000\n",
            "214/214 [==============================] - 0s 2ms/step - loss: 0.5454 - accuracy: 0.7677 - val_loss: 0.5180 - val_accuracy: 0.7731\n",
            "Epoch 47/4000\n",
            "214/214 [==============================] - 0s 1ms/step - loss: 0.5452 - accuracy: 0.7662 - val_loss: 0.5189 - val_accuracy: 0.7776\n",
            "Epoch 48/4000\n",
            "214/214 [==============================] - 0s 2ms/step - loss: 0.5449 - accuracy: 0.7669 - val_loss: 0.5185 - val_accuracy: 0.7776\n",
            "Epoch 49/4000\n",
            "214/214 [==============================] - 0s 2ms/step - loss: 0.5446 - accuracy: 0.7678 - val_loss: 0.5192 - val_accuracy: 0.7786\n",
            "Epoch 50/4000\n",
            "214/214 [==============================] - 0s 2ms/step - loss: 0.5445 - accuracy: 0.7674 - val_loss: 0.5190 - val_accuracy: 0.7752\n",
            "Epoch 51/4000\n",
            "214/214 [==============================] - 0s 2ms/step - loss: 0.5442 - accuracy: 0.7677 - val_loss: 0.5182 - val_accuracy: 0.7772\n",
            "Epoch 52/4000\n",
            "214/214 [==============================] - 0s 2ms/step - loss: 0.5440 - accuracy: 0.7682 - val_loss: 0.5189 - val_accuracy: 0.7703\n",
            "Epoch 53/4000\n",
            "214/214 [==============================] - 0s 2ms/step - loss: 0.5439 - accuracy: 0.7685 - val_loss: 0.5183 - val_accuracy: 0.7714\n",
            "Epoch 54/4000\n",
            "214/214 [==============================] - 0s 2ms/step - loss: 0.5437 - accuracy: 0.7662 - val_loss: 0.5173 - val_accuracy: 0.7707\n",
            "Epoch 55/4000\n",
            "214/214 [==============================] - 0s 2ms/step - loss: 0.5435 - accuracy: 0.7662 - val_loss: 0.5169 - val_accuracy: 0.7710\n",
            "Epoch 56/4000\n",
            "214/214 [==============================] - 0s 2ms/step - loss: 0.5434 - accuracy: 0.7674 - val_loss: 0.5165 - val_accuracy: 0.7724\n",
            "Epoch 57/4000\n",
            "214/214 [==============================] - 0s 1ms/step - loss: 0.5432 - accuracy: 0.7669 - val_loss: 0.5162 - val_accuracy: 0.7755\n",
            "Epoch 58/4000\n",
            "214/214 [==============================] - 0s 2ms/step - loss: 0.5432 - accuracy: 0.7674 - val_loss: 0.5166 - val_accuracy: 0.7755\n",
            "Epoch 59/4000\n",
            "214/214 [==============================] - 0s 2ms/step - loss: 0.5430 - accuracy: 0.7669 - val_loss: 0.5161 - val_accuracy: 0.7752\n",
            "Epoch 60/4000\n",
            "214/214 [==============================] - 0s 1ms/step - loss: 0.5429 - accuracy: 0.7688 - val_loss: 0.5167 - val_accuracy: 0.7738\n",
            "Epoch 61/4000\n",
            "214/214 [==============================] - 0s 1ms/step - loss: 0.5427 - accuracy: 0.7699 - val_loss: 0.5160 - val_accuracy: 0.7786\n",
            "Epoch 62/4000\n",
            "214/214 [==============================] - 0s 1ms/step - loss: 0.5427 - accuracy: 0.7680 - val_loss: 0.5176 - val_accuracy: 0.7762\n",
            "Epoch 63/4000\n",
            "214/214 [==============================] - 0s 1ms/step - loss: 0.5424 - accuracy: 0.7702 - val_loss: 0.5164 - val_accuracy: 0.7800\n",
            "Epoch 64/4000\n",
            "214/214 [==============================] - 0s 1ms/step - loss: 0.5425 - accuracy: 0.7671 - val_loss: 0.5161 - val_accuracy: 0.7793\n",
            "Epoch 65/4000\n",
            "214/214 [==============================] - 0s 2ms/step - loss: 0.5422 - accuracy: 0.7687 - val_loss: 0.5165 - val_accuracy: 0.7728\n",
            "Epoch 66/4000\n",
            "214/214 [==============================] - 0s 1ms/step - loss: 0.5423 - accuracy: 0.7671 - val_loss: 0.5156 - val_accuracy: 0.7772\n",
            "Epoch 67/4000\n",
            "214/214 [==============================] - 0s 1ms/step - loss: 0.5420 - accuracy: 0.7680 - val_loss: 0.5173 - val_accuracy: 0.7659\n",
            "Epoch 68/4000\n",
            "214/214 [==============================] - 0s 2ms/step - loss: 0.5421 - accuracy: 0.7691 - val_loss: 0.5169 - val_accuracy: 0.7783\n",
            "Epoch 69/4000\n",
            "214/214 [==============================] - 0s 2ms/step - loss: 0.5420 - accuracy: 0.7672 - val_loss: 0.5161 - val_accuracy: 0.7776\n",
            "Epoch 70/4000\n",
            "214/214 [==============================] - 0s 2ms/step - loss: 0.5420 - accuracy: 0.7697 - val_loss: 0.5155 - val_accuracy: 0.7848\n",
            "Epoch 71/4000\n",
            "214/214 [==============================] - 0s 1ms/step - loss: 0.5419 - accuracy: 0.7688 - val_loss: 0.5159 - val_accuracy: 0.7814\n",
            "Epoch 72/4000\n",
            "214/214 [==============================] - 0s 2ms/step - loss: 0.5419 - accuracy: 0.7677 - val_loss: 0.5171 - val_accuracy: 0.7669\n",
            "Epoch 73/4000\n",
            "214/214 [==============================] - 0s 1ms/step - loss: 0.5418 - accuracy: 0.7693 - val_loss: 0.5158 - val_accuracy: 0.7690\n",
            "Epoch 74/4000\n",
            "214/214 [==============================] - 0s 2ms/step - loss: 0.5418 - accuracy: 0.7693 - val_loss: 0.5166 - val_accuracy: 0.7717\n",
            "Epoch 75/4000\n",
            "214/214 [==============================] - 0s 2ms/step - loss: 0.5416 - accuracy: 0.7688 - val_loss: 0.5167 - val_accuracy: 0.7717\n",
            "Epoch 76/4000\n",
            "214/214 [==============================] - 0s 2ms/step - loss: 0.5417 - accuracy: 0.7693 - val_loss: 0.5152 - val_accuracy: 0.7828\n",
            "Epoch 77/4000\n",
            "214/214 [==============================] - 0s 2ms/step - loss: 0.5417 - accuracy: 0.7678 - val_loss: 0.5158 - val_accuracy: 0.7859\n",
            "Epoch 78/4000\n",
            "214/214 [==============================] - 0s 2ms/step - loss: 0.5416 - accuracy: 0.7682 - val_loss: 0.5158 - val_accuracy: 0.7786\n",
            "Epoch 79/4000\n",
            "214/214 [==============================] - 0s 2ms/step - loss: 0.5415 - accuracy: 0.7703 - val_loss: 0.5155 - val_accuracy: 0.7810\n",
            "Epoch 80/4000\n",
            "214/214 [==============================] - 0s 2ms/step - loss: 0.5415 - accuracy: 0.7675 - val_loss: 0.5148 - val_accuracy: 0.7831\n",
            "Epoch 81/4000\n",
            "214/214 [==============================] - 0s 1ms/step - loss: 0.5413 - accuracy: 0.7688 - val_loss: 0.5154 - val_accuracy: 0.7803\n",
            "Epoch 82/4000\n",
            "214/214 [==============================] - 0s 2ms/step - loss: 0.5414 - accuracy: 0.7674 - val_loss: 0.5154 - val_accuracy: 0.7690\n",
            "Epoch 83/4000\n",
            "214/214 [==============================] - 0s 2ms/step - loss: 0.5413 - accuracy: 0.7690 - val_loss: 0.5155 - val_accuracy: 0.7779\n",
            "Epoch 84/4000\n",
            "214/214 [==============================] - 0s 2ms/step - loss: 0.5413 - accuracy: 0.7688 - val_loss: 0.5161 - val_accuracy: 0.7714\n",
            "Epoch 85/4000\n",
            "214/214 [==============================] - 0s 2ms/step - loss: 0.5414 - accuracy: 0.7693 - val_loss: 0.5150 - val_accuracy: 0.7772\n",
            "Epoch 86/4000\n",
            "214/214 [==============================] - 0s 2ms/step - loss: 0.5412 - accuracy: 0.7712 - val_loss: 0.5155 - val_accuracy: 0.7807\n",
            "Epoch 87/4000\n",
            "214/214 [==============================] - 0s 2ms/step - loss: 0.5411 - accuracy: 0.7658 - val_loss: 0.5156 - val_accuracy: 0.7738\n",
            "Epoch 88/4000\n",
            "214/214 [==============================] - 0s 2ms/step - loss: 0.5412 - accuracy: 0.7694 - val_loss: 0.5153 - val_accuracy: 0.7779\n",
            "Epoch 89/4000\n",
            "214/214 [==============================] - 0s 1ms/step - loss: 0.5412 - accuracy: 0.7693 - val_loss: 0.5152 - val_accuracy: 0.7838\n",
            "Epoch 90/4000\n",
            "214/214 [==============================] - 0s 2ms/step - loss: 0.5411 - accuracy: 0.7687 - val_loss: 0.5155 - val_accuracy: 0.7821\n",
            "Epoch 91/4000\n",
            "214/214 [==============================] - 0s 2ms/step - loss: 0.5410 - accuracy: 0.7662 - val_loss: 0.5150 - val_accuracy: 0.7814\n",
            "Epoch 92/4000\n",
            "214/214 [==============================] - 0s 2ms/step - loss: 0.5411 - accuracy: 0.7704 - val_loss: 0.5151 - val_accuracy: 0.7790\n",
            "Epoch 93/4000\n",
            "214/214 [==============================] - 0s 2ms/step - loss: 0.5411 - accuracy: 0.7703 - val_loss: 0.5148 - val_accuracy: 0.7769\n",
            "Epoch 94/4000\n",
            "214/214 [==============================] - 0s 1ms/step - loss: 0.5410 - accuracy: 0.7700 - val_loss: 0.5153 - val_accuracy: 0.7790\n",
            "Epoch 95/4000\n",
            "214/214 [==============================] - 1s 3ms/step - loss: 0.5409 - accuracy: 0.7693 - val_loss: 0.5160 - val_accuracy: 0.7672\n",
            "Epoch 96/4000\n",
            "214/214 [==============================] - 0s 1ms/step - loss: 0.5408 - accuracy: 0.7688 - val_loss: 0.5150 - val_accuracy: 0.7834\n",
            "Epoch 97/4000\n",
            "214/214 [==============================] - 0s 2ms/step - loss: 0.5410 - accuracy: 0.7668 - val_loss: 0.5146 - val_accuracy: 0.7797\n",
            "Epoch 98/4000\n",
            "214/214 [==============================] - 0s 2ms/step - loss: 0.5410 - accuracy: 0.7703 - val_loss: 0.5152 - val_accuracy: 0.7793\n",
            "Epoch 99/4000\n",
            "214/214 [==============================] - 0s 1ms/step - loss: 0.5409 - accuracy: 0.7669 - val_loss: 0.5147 - val_accuracy: 0.7714\n",
            "Epoch 100/4000\n",
            "214/214 [==============================] - 0s 2ms/step - loss: 0.5409 - accuracy: 0.7713 - val_loss: 0.5143 - val_accuracy: 0.7845\n",
            "Epoch 101/4000\n",
            "214/214 [==============================] - 0s 2ms/step - loss: 0.5409 - accuracy: 0.7690 - val_loss: 0.5152 - val_accuracy: 0.7766\n",
            "Epoch 102/4000\n",
            "214/214 [==============================] - 0s 2ms/step - loss: 0.5408 - accuracy: 0.7702 - val_loss: 0.5146 - val_accuracy: 0.7717\n",
            "Epoch 103/4000\n",
            "214/214 [==============================] - 0s 2ms/step - loss: 0.5408 - accuracy: 0.7697 - val_loss: 0.5140 - val_accuracy: 0.7828\n",
            "Epoch 104/4000\n",
            "214/214 [==============================] - 0s 2ms/step - loss: 0.5409 - accuracy: 0.7685 - val_loss: 0.5151 - val_accuracy: 0.7710\n",
            "Epoch 105/4000\n",
            "214/214 [==============================] - 0s 2ms/step - loss: 0.5408 - accuracy: 0.7703 - val_loss: 0.5153 - val_accuracy: 0.7831\n",
            "Epoch 106/4000\n",
            "214/214 [==============================] - 0s 2ms/step - loss: 0.5408 - accuracy: 0.7675 - val_loss: 0.5153 - val_accuracy: 0.7669\n",
            "Epoch 107/4000\n",
            "214/214 [==============================] - 0s 2ms/step - loss: 0.5406 - accuracy: 0.7699 - val_loss: 0.5155 - val_accuracy: 0.7717\n",
            "Epoch 108/4000\n",
            "214/214 [==============================] - 0s 2ms/step - loss: 0.5408 - accuracy: 0.7685 - val_loss: 0.5141 - val_accuracy: 0.7790\n",
            "Epoch 109/4000\n",
            "214/214 [==============================] - 0s 2ms/step - loss: 0.5408 - accuracy: 0.7684 - val_loss: 0.5151 - val_accuracy: 0.7779\n",
            "Epoch 110/4000\n",
            "214/214 [==============================] - 0s 2ms/step - loss: 0.5407 - accuracy: 0.7702 - val_loss: 0.5153 - val_accuracy: 0.7731\n",
            "Epoch 111/4000\n",
            "214/214 [==============================] - 0s 2ms/step - loss: 0.5405 - accuracy: 0.7697 - val_loss: 0.5145 - val_accuracy: 0.7790\n",
            "Epoch 112/4000\n",
            "214/214 [==============================] - 0s 1ms/step - loss: 0.5408 - accuracy: 0.7688 - val_loss: 0.5155 - val_accuracy: 0.7741\n",
            "Epoch 113/4000\n",
            "214/214 [==============================] - 0s 2ms/step - loss: 0.5408 - accuracy: 0.7696 - val_loss: 0.5149 - val_accuracy: 0.7772\n",
            "Epoch 114/4000\n",
            "214/214 [==============================] - 0s 1ms/step - loss: 0.5406 - accuracy: 0.7697 - val_loss: 0.5150 - val_accuracy: 0.7776\n",
            "Epoch 115/4000\n",
            "214/214 [==============================] - 0s 2ms/step - loss: 0.5406 - accuracy: 0.7699 - val_loss: 0.5146 - val_accuracy: 0.7800\n",
            "Epoch 116/4000\n",
            "214/214 [==============================] - 0s 2ms/step - loss: 0.5406 - accuracy: 0.7688 - val_loss: 0.5157 - val_accuracy: 0.7707\n",
            "Epoch 117/4000\n",
            "214/214 [==============================] - 0s 2ms/step - loss: 0.5407 - accuracy: 0.7719 - val_loss: 0.5135 - val_accuracy: 0.7797\n",
            "Epoch 118/4000\n",
            "214/214 [==============================] - 0s 2ms/step - loss: 0.5406 - accuracy: 0.7702 - val_loss: 0.5149 - val_accuracy: 0.7707\n",
            "Epoch 119/4000\n",
            "214/214 [==============================] - 0s 1ms/step - loss: 0.5405 - accuracy: 0.7696 - val_loss: 0.5144 - val_accuracy: 0.7817\n",
            "Epoch 120/4000\n",
            "214/214 [==============================] - 0s 2ms/step - loss: 0.5405 - accuracy: 0.7709 - val_loss: 0.5134 - val_accuracy: 0.7821\n",
            "Epoch 121/4000\n",
            "214/214 [==============================] - 0s 2ms/step - loss: 0.5405 - accuracy: 0.7682 - val_loss: 0.5138 - val_accuracy: 0.7807\n",
            "Epoch 122/4000\n",
            "214/214 [==============================] - 0s 2ms/step - loss: 0.5405 - accuracy: 0.7680 - val_loss: 0.5151 - val_accuracy: 0.7710\n",
            "Epoch 123/4000\n",
            "214/214 [==============================] - 0s 2ms/step - loss: 0.5404 - accuracy: 0.7706 - val_loss: 0.5133 - val_accuracy: 0.7793\n",
            "Epoch 124/4000\n",
            "214/214 [==============================] - 0s 2ms/step - loss: 0.5404 - accuracy: 0.7680 - val_loss: 0.5134 - val_accuracy: 0.7748\n",
            "Epoch 125/4000\n",
            "214/214 [==============================] - 0s 2ms/step - loss: 0.5405 - accuracy: 0.7690 - val_loss: 0.5154 - val_accuracy: 0.7669\n",
            "Epoch 126/4000\n",
            "214/214 [==============================] - 0s 1ms/step - loss: 0.5405 - accuracy: 0.7671 - val_loss: 0.5144 - val_accuracy: 0.7786\n",
            "Epoch 127/4000\n",
            "214/214 [==============================] - 0s 1ms/step - loss: 0.5405 - accuracy: 0.7697 - val_loss: 0.5140 - val_accuracy: 0.7807\n",
            "Epoch 128/4000\n",
            "214/214 [==============================] - 0s 2ms/step - loss: 0.5404 - accuracy: 0.7694 - val_loss: 0.5142 - val_accuracy: 0.7807\n",
            "Epoch 129/4000\n",
            "214/214 [==============================] - 0s 1ms/step - loss: 0.5403 - accuracy: 0.7694 - val_loss: 0.5135 - val_accuracy: 0.7831\n",
            "Epoch 130/4000\n",
            "214/214 [==============================] - 0s 2ms/step - loss: 0.5403 - accuracy: 0.7678 - val_loss: 0.5146 - val_accuracy: 0.7838\n",
            "Epoch 131/4000\n",
            "214/214 [==============================] - 0s 2ms/step - loss: 0.5403 - accuracy: 0.7680 - val_loss: 0.5153 - val_accuracy: 0.7759\n",
            "Epoch 132/4000\n",
            "214/214 [==============================] - 0s 2ms/step - loss: 0.5404 - accuracy: 0.7694 - val_loss: 0.5140 - val_accuracy: 0.7786\n",
            "Epoch 133/4000\n",
            "214/214 [==============================] - 0s 1ms/step - loss: 0.5404 - accuracy: 0.7690 - val_loss: 0.5144 - val_accuracy: 0.7810\n",
            "Epoch 134/4000\n",
            "214/214 [==============================] - 0s 2ms/step - loss: 0.5403 - accuracy: 0.7681 - val_loss: 0.5145 - val_accuracy: 0.7797\n",
            "Epoch 135/4000\n",
            "214/214 [==============================] - 0s 1ms/step - loss: 0.5404 - accuracy: 0.7706 - val_loss: 0.5141 - val_accuracy: 0.7807\n",
            "Epoch 136/4000\n",
            "214/214 [==============================] - 0s 1ms/step - loss: 0.5403 - accuracy: 0.7702 - val_loss: 0.5139 - val_accuracy: 0.7772\n",
            "Epoch 137/4000\n",
            "214/214 [==============================] - 0s 2ms/step - loss: 0.5404 - accuracy: 0.7697 - val_loss: 0.5151 - val_accuracy: 0.7831\n",
            "Epoch 138/4000\n",
            "214/214 [==============================] - 0s 2ms/step - loss: 0.5403 - accuracy: 0.7681 - val_loss: 0.5151 - val_accuracy: 0.7779\n",
            "Epoch 139/4000\n",
            "214/214 [==============================] - 0s 2ms/step - loss: 0.5403 - accuracy: 0.7704 - val_loss: 0.5142 - val_accuracy: 0.7662\n",
            "Epoch 140/4000\n",
            "214/214 [==============================] - 0s 2ms/step - loss: 0.5402 - accuracy: 0.7724 - val_loss: 0.5138 - val_accuracy: 0.7838\n",
            "Epoch 141/4000\n",
            "214/214 [==============================] - 0s 1ms/step - loss: 0.5403 - accuracy: 0.7669 - val_loss: 0.5137 - val_accuracy: 0.7803\n",
            "Epoch 142/4000\n",
            "214/214 [==============================] - 0s 2ms/step - loss: 0.5403 - accuracy: 0.7702 - val_loss: 0.5134 - val_accuracy: 0.7797\n",
            "Epoch 143/4000\n",
            "214/214 [==============================] - 0s 1ms/step - loss: 0.5402 - accuracy: 0.7702 - val_loss: 0.5138 - val_accuracy: 0.7824\n",
            "Epoch 143: early stopping\n"
          ]
        }
      ]
    },
    {
      "cell_type": "code",
      "source": [
        "#visualisation\n",
        "plt.plot(trained_model_2.history['loss'],color='red',label='Training Loss')\n",
        "plt.plot(trained_model_2.history['val_loss'],color='blue',label='Testing Loss')\n",
        "plt.legend()\n",
        "plt.show()"
      ],
      "metadata": {
        "colab": {
          "base_uri": "https://localhost:8080/",
          "height": 430
        },
        "id": "92UW8us1V1u8",
        "outputId": "ce84d445-06d6-427d-99e9-1d4eed9310d9"
      },
      "execution_count": 123,
      "outputs": [
        {
          "output_type": "display_data",
          "data": {
            "text/plain": [
              "<Figure size 640x480 with 1 Axes>"
            ],
            "image/png": "[encoded data removed]"
          },
          "metadata": {}
        }
      ]
    },
    {
      "cell_type": "code",
      "source": [
        "plt.plot(trained_model_2.history['accuracy'],color='red',label='Training Loss')\n",
        "plt.plot(trained_model_2.history['val_accuracy'],color='blue',label='Testing Loss')\n",
        "plt.legend()\n",
        "plt.show()"
      ],
      "metadata": {
        "id": "QDDrhVTvWVJD"
      },
      "execution_count": null,
      "outputs": []
    },
    {
      "cell_type": "code",
      "source": [
        "#find prediction\n",
        "y_pred2=model1.predict(x_test_ros).round(2)\n",
        "y_pred2"
      ],
      "metadata": {
        "colab": {
          "base_uri": "https://localhost:8080/"
        },
        "id": "kututP32WeSh",
        "outputId": "2fb985e0-d4fc-4557-c8e5-cab2f262ad4c"
      },
      "execution_count": 125,
      "outputs": [
        {
          "output_type": "stream",
          "name": "stdout",
          "text": [
            "91/91 [==============================] - 0s 724us/step\n"
          ]
        },
        {
          "output_type": "execute_result",
          "data": {
            "text/plain": [
              "array([[0.28],\n",
              "       [0.77],\n",
              "       [0.08],\n",
              "       ...,\n",
              "       [0.85],\n",
              "       [0.71],\n",
              "       [0.87]], dtype=float32)"
            ]
          },
          "metadata": {},
          "execution_count": 125
        }
      ]
    },
    {
      "cell_type": "code",
      "source": [
        "y_pred2=np.where(y_pred2>=0.5,1,0)\n",
        "y_pred2"
      ],
      "metadata": {
        "colab": {
          "base_uri": "https://localhost:8080/"
        },
        "id": "BOwI9NNcWoGX",
        "outputId": "ab1498e4-2f84-4709-b17c-0d61b7fe3bff"
      },
      "execution_count": 126,
      "outputs": [
        {
          "output_type": "execute_result",
          "data": {
            "text/plain": [
              "array([[0],\n",
              "       [1],\n",
              "       [0],\n",
              "       ...,\n",
              "       [1],\n",
              "       [1],\n",
              "       [1]])"
            ]
          },
          "metadata": {},
          "execution_count": 126
        }
      ]
    },
    {
      "cell_type": "code",
      "source": [
        "print(classification_report(y_test_ros,y_pred2))\n",
        "print(confusion_matrix(y_test_ros,y_pred2))"
      ],
      "metadata": {
        "colab": {
          "base_uri": "https://localhost:8080/"
        },
        "id": "E0J_F2l9Wt2D",
        "outputId": "8dc6fd50-b917-43f2-9ef1-75b33c3d966c"
      },
      "execution_count": 127,
      "outputs": [
        {
          "metadata": {
            "tags": null
          },
          "name": "stdout",
          "output_type": "stream",
          "text": [
            "              precision    recall  f1-score   support\n",
            "\n",
            "           0       0.85      0.70      0.77      1450\n",
            "           1       0.75      0.87      0.80      1450\n",
            "\n",
            "    accuracy                           0.79      2900\n",
            "   macro avg       0.80      0.79      0.79      2900\n",
            "weighted avg       0.80      0.79      0.79      2900\n",
            "\n",
            "[[1020  430]\n",
            " [ 185 1265]]\n"
          ]
        }
      ]
    },
    {
      "cell_type": "code",
      "source": [],
      "metadata": {
        "id": "b-GZSjgvW3J8"
      },
      "execution_count": 127,
      "outputs": []
    },
    {
      "cell_type": "markdown",
      "source": [
        "Handling Overfitting by Lasso Regularization"
      ],
      "metadata": {
        "id": "sXcEBK2hXJjx"
      }
    },
    {
      "cell_type": "code",
      "source": [
        "#now we will try to reduce overfitting\n",
        "#call class regularisation: inbuilt class"
      ],
      "metadata": {
        "id": "Ul5o_sngS2Nk"
      },
      "execution_count": 128,
      "outputs": []
    },
    {
      "cell_type": "code",
      "source": [
        "model2=tf.keras.Sequential([\n",
        "                          tf.keras.layers.Dense(units=10,activation='relu',input_shape=(x.shape[1],),\n",
        "                          kernel_regularizer=regularizers.l1(0.01)),\n",
        "                           #First hidden layer\n",
        "                           tf.keras.layers.Dense(units=10,activation='relu',kernel_regularizer=regularizers.l1(0.01)), #second hidden layer\n",
        "                           tf.keras.layers.Dense(units=1,activation='sigmoid',kernel_regularizer=regularizers.l1(0.01))]) #output layer"
      ],
      "metadata": {
        "id": "K_7CRZEIS4Nv"
      },
      "execution_count": 129,
      "outputs": []
    },
    {
      "cell_type": "code",
      "source": [
        "#complie the model\n",
        "#use inbuilt method compile() of sequential class\n",
        "model2.compile(optimizer='sgd',loss='binary_crossentropy',metrics=['accuracy'])"
      ],
      "metadata": {
        "id": "AQHwTytDTAnM"
      },
      "execution_count": 130,
      "outputs": []
    },
    {
      "cell_type": "code",
      "source": [
        "#train the model\n",
        "trained_model_3=model2.fit(x_train_ros,y_train_ros,epochs=4000,callbacks=cb,validation_data=(x_test_ros,y_test_ros))"
      ],
      "metadata": {
        "colab": {
          "base_uri": "https://localhost:8080/"
        },
        "id": "6EBEHZ7sTEHE",
        "outputId": "0befbe61-5392-4934-a58a-6989ac72a717"
      },
      "execution_count": null,
      "outputs": [
        {
          "output_type": "stream",
          "name": "stdout",
          "text": [
            "Epoch 1/4000\n",
            "214/214 [==============================] - 1s 2ms/step - loss: 1.2425 - accuracy: 0.5163 - val_loss: 1.1627 - val_accuracy: 0.6348\n",
            "Epoch 2/4000\n",
            "214/214 [==============================] - 0s 1ms/step - loss: 1.1365 - accuracy: 0.6338 - val_loss: 1.0769 - val_accuracy: 0.7152\n",
            "Epoch 3/4000\n",
            "214/214 [==============================] - 0s 2ms/step - loss: 1.0713 - accuracy: 0.6774 - val_loss: 1.0164 - val_accuracy: 0.7362\n",
            "Epoch 4/4000\n",
            "214/214 [==============================] - 0s 1ms/step - loss: 1.0224 - accuracy: 0.6903 - val_loss: 0.9685 - val_accuracy: 0.7428\n",
            "Epoch 5/4000\n",
            "214/214 [==============================] - 0s 2ms/step - loss: 0.9785 - accuracy: 0.7027 - val_loss: 0.9252 - val_accuracy: 0.7528\n",
            "Epoch 6/4000\n",
            "214/214 [==============================] - 0s 2ms/step - loss: 0.9380 - accuracy: 0.7109 - val_loss: 0.8854 - val_accuracy: 0.7597\n",
            "Epoch 7/4000\n",
            "214/214 [==============================] - 0s 2ms/step - loss: 0.9011 - accuracy: 0.7172 - val_loss: 0.8475 - val_accuracy: 0.7728\n",
            "Epoch 8/4000\n",
            "214/214 [==============================] - 0s 2ms/step - loss: 0.8671 - accuracy: 0.7315 - val_loss: 0.8149 - val_accuracy: 0.7759\n",
            "Epoch 9/4000\n",
            "214/214 [==============================] - 0s 2ms/step - loss: 0.8355 - accuracy: 0.7427 - val_loss: 0.7853 - val_accuracy: 0.7800\n",
            "Epoch 10/4000\n",
            "214/214 [==============================] - 0s 1ms/step - loss: 0.8065 - accuracy: 0.7483 - val_loss: 0.7574 - val_accuracy: 0.7862\n",
            "Epoch 11/4000\n",
            "214/214 [==============================] - 0s 1ms/step - loss: 0.7796 - accuracy: 0.7554 - val_loss: 0.7313 - val_accuracy: 0.7803\n",
            "Epoch 12/4000\n",
            "214/214 [==============================] - 0s 2ms/step - loss: 0.7547 - accuracy: 0.7595 - val_loss: 0.7080 - val_accuracy: 0.7821\n",
            "Epoch 13/4000\n",
            "214/214 [==============================] - 0s 2ms/step - loss: 0.7325 - accuracy: 0.7625 - val_loss: 0.6871 - val_accuracy: 0.7738\n",
            "Epoch 14/4000\n",
            "214/214 [==============================] - 0s 2ms/step - loss: 0.7132 - accuracy: 0.7587 - val_loss: 0.6698 - val_accuracy: 0.7852\n",
            "Epoch 15/4000\n",
            "214/214 [==============================] - 0s 1ms/step - loss: 0.6964 - accuracy: 0.7586 - val_loss: 0.6531 - val_accuracy: 0.7886\n",
            "Epoch 16/4000\n",
            "214/214 [==============================] - 0s 1ms/step - loss: 0.6808 - accuracy: 0.7543 - val_loss: 0.6381 - val_accuracy: 0.7928\n",
            "Epoch 17/4000\n",
            "214/214 [==============================] - 0s 1ms/step - loss: 0.6659 - accuracy: 0.7539 - val_loss: 0.6238 - val_accuracy: 0.7924\n",
            "Epoch 18/4000\n",
            "214/214 [==============================] - 0s 2ms/step - loss: 0.6528 - accuracy: 0.7534 - val_loss: 0.6123 - val_accuracy: 0.7966\n",
            "Epoch 19/4000\n",
            "214/214 [==============================] - 0s 1ms/step - loss: 0.6418 - accuracy: 0.7529 - val_loss: 0.6015 - val_accuracy: 0.7997\n",
            "Epoch 20/4000\n",
            "214/214 [==============================] - 0s 1ms/step - loss: 0.6323 - accuracy: 0.7542 - val_loss: 0.5917 - val_accuracy: 0.7993\n",
            "Epoch 21/4000\n",
            "214/214 [==============================] - 0s 2ms/step - loss: 0.6240 - accuracy: 0.7530 - val_loss: 0.5832 - val_accuracy: 0.7979\n",
            "Epoch 22/4000\n",
            "214/214 [==============================] - 0s 1ms/step - loss: 0.6168 - accuracy: 0.7540 - val_loss: 0.5765 - val_accuracy: 0.7966\n",
            "Epoch 23/4000\n",
            "214/214 [==============================] - 0s 1ms/step - loss: 0.6109 - accuracy: 0.7551 - val_loss: 0.5708 - val_accuracy: 0.7755\n",
            "Epoch 24/4000\n",
            "214/214 [==============================] - 0s 2ms/step - loss: 0.6060 - accuracy: 0.7561 - val_loss: 0.5656 - val_accuracy: 0.7772\n",
            "Epoch 25/4000\n",
            "214/214 [==============================] - 0s 2ms/step - loss: 0.6015 - accuracy: 0.7537 - val_loss: 0.5611 - val_accuracy: 0.7886\n",
            "Epoch 26/4000\n",
            "214/214 [==============================] - 0s 2ms/step - loss: 0.5979 - accuracy: 0.7577 - val_loss: 0.5578 - val_accuracy: 0.7828\n",
            "Epoch 27/4000\n",
            "214/214 [==============================] - 0s 1ms/step - loss: 0.5952 - accuracy: 0.7570 - val_loss: 0.5541 - val_accuracy: 0.7752\n",
            "Epoch 28/4000\n",
            "214/214 [==============================] - 0s 2ms/step - loss: 0.5933 - accuracy: 0.7545 - val_loss: 0.5520 - val_accuracy: 0.7797\n",
            "Epoch 29/4000\n",
            "214/214 [==============================] - 0s 1ms/step - loss: 0.5917 - accuracy: 0.7539 - val_loss: 0.5506 - val_accuracy: 0.7800\n",
            "Epoch 30/4000\n",
            "214/214 [==============================] - 0s 2ms/step - loss: 0.5902 - accuracy: 0.7493 - val_loss: 0.5499 - val_accuracy: 0.7855\n",
            "Epoch 31/4000\n",
            "214/214 [==============================] - 0s 2ms/step - loss: 0.5892 - accuracy: 0.7533 - val_loss: 0.5483 - val_accuracy: 0.7731\n",
            "Epoch 32/4000\n",
            "214/214 [==============================] - 0s 1ms/step - loss: 0.5882 - accuracy: 0.7496 - val_loss: 0.5483 - val_accuracy: 0.7831\n",
            "Epoch 33/4000\n",
            "214/214 [==============================] - 0s 2ms/step - loss: 0.5873 - accuracy: 0.7483 - val_loss: 0.5465 - val_accuracy: 0.7734\n",
            "Epoch 34/4000\n",
            "214/214 [==============================] - 0s 1ms/step - loss: 0.5868 - accuracy: 0.7488 - val_loss: 0.5469 - val_accuracy: 0.7838\n",
            "Epoch 35/4000\n",
            "214/214 [==============================] - 0s 1ms/step - loss: 0.5861 - accuracy: 0.7511 - val_loss: 0.5457 - val_accuracy: 0.7872\n",
            "Epoch 36/4000\n",
            "214/214 [==============================] - 0s 2ms/step - loss: 0.5855 - accuracy: 0.7499 - val_loss: 0.5444 - val_accuracy: 0.7931\n",
            "Epoch 37/4000\n",
            "214/214 [==============================] - 0s 2ms/step - loss: 0.5851 - accuracy: 0.7508 - val_loss: 0.5443 - val_accuracy: 0.7876\n",
            "Epoch 38/4000\n",
            "214/214 [==============================] - 0s 2ms/step - loss: 0.5845 - accuracy: 0.7488 - val_loss: 0.5430 - val_accuracy: 0.7762\n",
            "Epoch 39/4000\n",
            "214/214 [==============================] - 0s 2ms/step - loss: 0.5839 - accuracy: 0.7504 - val_loss: 0.5432 - val_accuracy: 0.7928\n",
            "Epoch 40/4000\n",
            "214/214 [==============================] - 0s 2ms/step - loss: 0.5834 - accuracy: 0.7493 - val_loss: 0.5424 - val_accuracy: 0.7866\n",
            "Epoch 41/4000\n",
            "214/214 [==============================] - 0s 2ms/step - loss: 0.5829 - accuracy: 0.7480 - val_loss: 0.5424 - val_accuracy: 0.7879\n",
            "Epoch 42/4000\n",
            "214/214 [==============================] - 0s 1ms/step - loss: 0.5822 - accuracy: 0.7505 - val_loss: 0.5414 - val_accuracy: 0.7772\n",
            "Epoch 43/4000\n",
            "214/214 [==============================] - 0s 2ms/step - loss: 0.5817 - accuracy: 0.7483 - val_loss: 0.5409 - val_accuracy: 0.7766\n",
            "Epoch 44/4000\n",
            "214/214 [==============================] - 0s 2ms/step - loss: 0.5812 - accuracy: 0.7482 - val_loss: 0.5409 - val_accuracy: 0.7862\n",
            "Epoch 45/4000\n",
            "214/214 [==============================] - 0s 2ms/step - loss: 0.5805 - accuracy: 0.7533 - val_loss: 0.5404 - val_accuracy: 0.7900\n",
            "Epoch 46/4000\n",
            "214/214 [==============================] - 0s 2ms/step - loss: 0.5799 - accuracy: 0.7504 - val_loss: 0.5409 - val_accuracy: 0.7907\n",
            "Epoch 47/4000\n",
            "214/214 [==============================] - 0s 1ms/step - loss: 0.5792 - accuracy: 0.7499 - val_loss: 0.5387 - val_accuracy: 0.7866\n",
            "Epoch 48/4000\n",
            "214/214 [==============================] - 0s 1ms/step - loss: 0.5785 - accuracy: 0.7512 - val_loss: 0.5384 - val_accuracy: 0.7862\n",
            "Epoch 49/4000\n",
            "214/214 [==============================] - 0s 1ms/step - loss: 0.5777 - accuracy: 0.7492 - val_loss: 0.5380 - val_accuracy: 0.7859\n",
            "Epoch 50/4000\n",
            "214/214 [==============================] - 0s 1ms/step - loss: 0.5769 - accuracy: 0.7510 - val_loss: 0.5366 - val_accuracy: 0.7900\n",
            "Epoch 51/4000\n",
            "214/214 [==============================] - 0s 1ms/step - loss: 0.5761 - accuracy: 0.7490 - val_loss: 0.5367 - val_accuracy: 0.7817\n",
            "Epoch 52/4000\n",
            "214/214 [==============================] - 0s 2ms/step - loss: 0.5750 - accuracy: 0.7499 - val_loss: 0.5366 - val_accuracy: 0.7862\n",
            "Epoch 53/4000\n",
            "214/214 [==============================] - 0s 2ms/step - loss: 0.5743 - accuracy: 0.7507 - val_loss: 0.5344 - val_accuracy: 0.7924\n",
            "Epoch 54/4000\n",
            "214/214 [==============================] - 0s 1ms/step - loss: 0.5733 - accuracy: 0.7496 - val_loss: 0.5335 - val_accuracy: 0.7790\n",
            "Epoch 55/4000\n",
            "214/214 [==============================] - 0s 2ms/step - loss: 0.5727 - accuracy: 0.7510 - val_loss: 0.5314 - val_accuracy: 0.7897\n",
            "Epoch 56/4000\n",
            "214/214 [==============================] - 0s 2ms/step - loss: 0.5716 - accuracy: 0.7515 - val_loss: 0.5311 - val_accuracy: 0.7779\n",
            "Epoch 57/4000\n",
            "214/214 [==============================] - 0s 2ms/step - loss: 0.5709 - accuracy: 0.7468 - val_loss: 0.5307 - val_accuracy: 0.7897\n",
            "Epoch 58/4000\n",
            "214/214 [==============================] - 0s 2ms/step - loss: 0.5699 - accuracy: 0.7501 - val_loss: 0.5286 - val_accuracy: 0.7869\n",
            "Epoch 59/4000\n",
            "214/214 [==============================] - 0s 1ms/step - loss: 0.5692 - accuracy: 0.7511 - val_loss: 0.5287 - val_accuracy: 0.7921\n",
            "Epoch 60/4000\n",
            "214/214 [==============================] - 0s 1ms/step - loss: 0.5683 - accuracy: 0.7473 - val_loss: 0.5285 - val_accuracy: 0.7921\n",
            "Epoch 61/4000\n",
            "214/214 [==============================] - 0s 2ms/step - loss: 0.5676 - accuracy: 0.7515 - val_loss: 0.5266 - val_accuracy: 0.7869\n",
            "Epoch 62/4000\n",
            "214/214 [==============================] - 0s 1ms/step - loss: 0.5664 - accuracy: 0.7485 - val_loss: 0.5263 - val_accuracy: 0.7845\n",
            "Epoch 63/4000\n",
            "214/214 [==============================] - 0s 2ms/step - loss: 0.5655 - accuracy: 0.7505 - val_loss: 0.5251 - val_accuracy: 0.7859\n",
            "Epoch 64/4000\n",
            "214/214 [==============================] - 0s 1ms/step - loss: 0.5643 - accuracy: 0.7483 - val_loss: 0.5238 - val_accuracy: 0.7845\n",
            "Epoch 65/4000\n",
            "214/214 [==============================] - 0s 2ms/step - loss: 0.5632 - accuracy: 0.7492 - val_loss: 0.5209 - val_accuracy: 0.7841\n",
            "Epoch 66/4000\n",
            "214/214 [==============================] - 0s 1ms/step - loss: 0.5622 - accuracy: 0.7463 - val_loss: 0.5212 - val_accuracy: 0.7859\n",
            "Epoch 67/4000\n",
            "214/214 [==============================] - 0s 2ms/step - loss: 0.5610 - accuracy: 0.7505 - val_loss: 0.5194 - val_accuracy: 0.7848\n",
            "Epoch 68/4000\n",
            "214/214 [==============================] - 0s 2ms/step - loss: 0.5597 - accuracy: 0.7482 - val_loss: 0.5183 - val_accuracy: 0.7862\n",
            "Epoch 69/4000\n",
            "214/214 [==============================] - 0s 2ms/step - loss: 0.5589 - accuracy: 0.7486 - val_loss: 0.5161 - val_accuracy: 0.7914\n",
            "Epoch 70/4000\n",
            "214/214 [==============================] - 0s 2ms/step - loss: 0.5579 - accuracy: 0.7486 - val_loss: 0.5157 - val_accuracy: 0.7838\n",
            "Epoch 71/4000\n",
            "214/214 [==============================] - 0s 2ms/step - loss: 0.5573 - accuracy: 0.7483 - val_loss: 0.5143 - val_accuracy: 0.7831\n",
            "Epoch 72/4000\n",
            "214/214 [==============================] - 0s 2ms/step - loss: 0.5568 - accuracy: 0.7486 - val_loss: 0.5137 - val_accuracy: 0.7845\n",
            "Epoch 73/4000\n",
            "214/214 [==============================] - 0s 2ms/step - loss: 0.5563 - accuracy: 0.7444 - val_loss: 0.5141 - val_accuracy: 0.7841\n",
            "Epoch 74/4000\n",
            "214/214 [==============================] - 0s 2ms/step - loss: 0.5559 - accuracy: 0.7495 - val_loss: 0.5144 - val_accuracy: 0.7828\n",
            "Epoch 75/4000\n",
            "214/214 [==============================] - 0s 1ms/step - loss: 0.5555 - accuracy: 0.7499 - val_loss: 0.5134 - val_accuracy: 0.7779\n",
            "Epoch 76/4000\n",
            "214/214 [==============================] - 0s 2ms/step - loss: 0.5552 - accuracy: 0.7471 - val_loss: 0.5123 - val_accuracy: 0.7890\n",
            "Epoch 77/4000\n",
            "214/214 [==============================] - 0s 2ms/step - loss: 0.5549 - accuracy: 0.7479 - val_loss: 0.5130 - val_accuracy: 0.7831\n",
            "Epoch 78/4000\n",
            "214/214 [==============================] - 0s 1ms/step - loss: 0.5545 - accuracy: 0.7464 - val_loss: 0.5140 - val_accuracy: 0.7852\n",
            "Epoch 79/4000\n",
            "214/214 [==============================] - 0s 2ms/step - loss: 0.5545 - accuracy: 0.7448 - val_loss: 0.5129 - val_accuracy: 0.7872\n",
            "Epoch 80/4000\n",
            "214/214 [==============================] - 0s 2ms/step - loss: 0.5543 - accuracy: 0.7504 - val_loss: 0.5144 - val_accuracy: 0.7897\n",
            "Epoch 81/4000\n",
            "214/214 [==============================] - 0s 1ms/step - loss: 0.5543 - accuracy: 0.7495 - val_loss: 0.5149 - val_accuracy: 0.7866\n",
            "Epoch 82/4000\n",
            "214/214 [==============================] - 0s 1ms/step - loss: 0.5543 - accuracy: 0.7495 - val_loss: 0.5136 - val_accuracy: 0.7869\n",
            "Epoch 83/4000\n",
            "214/214 [==============================] - 0s 1ms/step - loss: 0.5541 - accuracy: 0.7488 - val_loss: 0.5128 - val_accuracy: 0.7886\n",
            "Epoch 84/4000\n",
            "214/214 [==============================] - 0s 1ms/step - loss: 0.5541 - accuracy: 0.7493 - val_loss: 0.5134 - val_accuracy: 0.7879\n",
            "Epoch 85/4000\n",
            "214/214 [==============================] - 0s 2ms/step - loss: 0.5540 - accuracy: 0.7476 - val_loss: 0.5126 - val_accuracy: 0.7824\n",
            "Epoch 86/4000\n",
            "214/214 [==============================] - 0s 1ms/step - loss: 0.5539 - accuracy: 0.7466 - val_loss: 0.5123 - val_accuracy: 0.7872\n",
            "Epoch 87/4000\n",
            "214/214 [==============================] - 0s 2ms/step - loss: 0.5539 - accuracy: 0.7492 - val_loss: 0.5118 - val_accuracy: 0.7762\n",
            "Epoch 88/4000\n",
            "214/214 [==============================] - 0s 2ms/step - loss: 0.5538 - accuracy: 0.7461 - val_loss: 0.5120 - val_accuracy: 0.7824\n",
            "Epoch 89/4000\n",
            "214/214 [==============================] - 0s 1ms/step - loss: 0.5538 - accuracy: 0.7473 - val_loss: 0.5125 - val_accuracy: 0.7848\n",
            "Epoch 90/4000\n",
            "214/214 [==============================] - 0s 1ms/step - loss: 0.5537 - accuracy: 0.7482 - val_loss: 0.5121 - val_accuracy: 0.7752\n",
            "Epoch 91/4000\n",
            "214/214 [==============================] - 0s 2ms/step - loss: 0.5537 - accuracy: 0.7466 - val_loss: 0.5113 - val_accuracy: 0.7890\n",
            "Epoch 92/4000\n",
            "214/214 [==============================] - 0s 2ms/step - loss: 0.5538 - accuracy: 0.7490 - val_loss: 0.5114 - val_accuracy: 0.7821\n",
            "Epoch 93/4000\n",
            "214/214 [==============================] - 0s 2ms/step - loss: 0.5537 - accuracy: 0.7489 - val_loss: 0.5116 - val_accuracy: 0.7841\n",
            "Epoch 94/4000\n",
            "214/214 [==============================] - 0s 1ms/step - loss: 0.5536 - accuracy: 0.7501 - val_loss: 0.5114 - val_accuracy: 0.7841\n",
            "Epoch 95/4000\n",
            "214/214 [==============================] - 0s 1ms/step - loss: 0.5536 - accuracy: 0.7511 - val_loss: 0.5112 - val_accuracy: 0.7841\n",
            "Epoch 96/4000\n",
            "214/214 [==============================] - 0s 2ms/step - loss: 0.5535 - accuracy: 0.7474 - val_loss: 0.5127 - val_accuracy: 0.7852\n",
            "Epoch 97/4000\n",
            "214/214 [==============================] - 0s 2ms/step - loss: 0.5535 - accuracy: 0.7488 - val_loss: 0.5122 - val_accuracy: 0.7783\n",
            "Epoch 98/4000\n",
            "214/214 [==============================] - 0s 2ms/step - loss: 0.5534 - accuracy: 0.7474 - val_loss: 0.5109 - val_accuracy: 0.7838\n",
            "Epoch 99/4000\n",
            "214/214 [==============================] - 0s 2ms/step - loss: 0.5532 - accuracy: 0.7490 - val_loss: 0.5112 - val_accuracy: 0.7772\n",
            "Epoch 100/4000\n",
            "214/214 [==============================] - 0s 1ms/step - loss: 0.5534 - accuracy: 0.7492 - val_loss: 0.5128 - val_accuracy: 0.7828\n",
            "Epoch 101/4000\n",
            "214/214 [==============================] - 0s 2ms/step - loss: 0.5533 - accuracy: 0.7490 - val_loss: 0.5122 - val_accuracy: 0.7762\n",
            "Epoch 102/4000\n",
            "214/214 [==============================] - 0s 1ms/step - loss: 0.5533 - accuracy: 0.7463 - val_loss: 0.5111 - val_accuracy: 0.7793\n",
            "Epoch 103/4000\n",
            "214/214 [==============================] - 0s 2ms/step - loss: 0.5532 - accuracy: 0.7514 - val_loss: 0.5114 - val_accuracy: 0.7731\n",
            "Epoch 104/4000\n",
            "214/214 [==============================] - 0s 1ms/step - loss: 0.5532 - accuracy: 0.7466 - val_loss: 0.5096 - val_accuracy: 0.7797\n",
            "Epoch 105/4000\n",
            "214/214 [==============================] - 0s 2ms/step - loss: 0.5531 - accuracy: 0.7498 - val_loss: 0.5097 - val_accuracy: 0.7834\n",
            "Epoch 106/4000\n",
            "214/214 [==============================] - 0s 2ms/step - loss: 0.5530 - accuracy: 0.7468 - val_loss: 0.5111 - val_accuracy: 0.7817\n",
            "Epoch 107/4000\n",
            "214/214 [==============================] - 0s 2ms/step - loss: 0.5531 - accuracy: 0.7471 - val_loss: 0.5110 - val_accuracy: 0.7752\n",
            "Epoch 108/4000\n",
            "214/214 [==============================] - 0s 2ms/step - loss: 0.5529 - accuracy: 0.7508 - val_loss: 0.5117 - val_accuracy: 0.7824\n",
            "Epoch 109/4000\n",
            "214/214 [==============================] - 0s 2ms/step - loss: 0.5531 - accuracy: 0.7488 - val_loss: 0.5118 - val_accuracy: 0.7855\n",
            "Epoch 110/4000\n",
            "214/214 [==============================] - 0s 1ms/step - loss: 0.5529 - accuracy: 0.7488 - val_loss: 0.5105 - val_accuracy: 0.7762\n",
            "Epoch 111/4000\n",
            "214/214 [==============================] - 0s 2ms/step - loss: 0.5529 - accuracy: 0.7474 - val_loss: 0.5102 - val_accuracy: 0.7897\n",
            "Epoch 112/4000\n",
            "214/214 [==============================] - 0s 1ms/step - loss: 0.5530 - accuracy: 0.7492 - val_loss: 0.5094 - val_accuracy: 0.7741\n",
            "Epoch 113/4000\n",
            "214/214 [==============================] - 0s 2ms/step - loss: 0.5529 - accuracy: 0.7454 - val_loss: 0.5102 - val_accuracy: 0.7797\n",
            "Epoch 114/4000\n",
            "214/214 [==============================] - 0s 1ms/step - loss: 0.5528 - accuracy: 0.7470 - val_loss: 0.5103 - val_accuracy: 0.7741\n",
            "Epoch 115/4000\n",
            "214/214 [==============================] - 0s 2ms/step - loss: 0.5529 - accuracy: 0.7452 - val_loss: 0.5108 - val_accuracy: 0.7803\n",
            "Epoch 116/4000\n",
            "214/214 [==============================] - 0s 2ms/step - loss: 0.5525 - accuracy: 0.7482 - val_loss: 0.5094 - val_accuracy: 0.7797\n",
            "Epoch 117/4000\n",
            "214/214 [==============================] - 0s 1ms/step - loss: 0.5528 - accuracy: 0.7485 - val_loss: 0.5112 - val_accuracy: 0.7741\n",
            "Epoch 118/4000\n",
            "214/214 [==============================] - 0s 2ms/step - loss: 0.5526 - accuracy: 0.7464 - val_loss: 0.5122 - val_accuracy: 0.7752\n",
            "Epoch 119/4000\n",
            "214/214 [==============================] - 0s 2ms/step - loss: 0.5528 - accuracy: 0.7449 - val_loss: 0.5113 - val_accuracy: 0.7734\n",
            "Epoch 120/4000\n",
            "214/214 [==============================] - 0s 2ms/step - loss: 0.5526 - accuracy: 0.7467 - val_loss: 0.5101 - val_accuracy: 0.7817\n",
            "Epoch 121/4000\n",
            "214/214 [==============================] - 0s 2ms/step - loss: 0.5526 - accuracy: 0.7489 - val_loss: 0.5101 - val_accuracy: 0.7814\n",
            "Epoch 122/4000\n",
            "214/214 [==============================] - 0s 2ms/step - loss: 0.5526 - accuracy: 0.7485 - val_loss: 0.5103 - val_accuracy: 0.7886\n",
            "Epoch 123/4000\n",
            "214/214 [==============================] - 0s 1ms/step - loss: 0.5527 - accuracy: 0.7474 - val_loss: 0.5109 - val_accuracy: 0.7793\n",
            "Epoch 124/4000\n",
            "214/214 [==============================] - 0s 2ms/step - loss: 0.5526 - accuracy: 0.7492 - val_loss: 0.5108 - val_accuracy: 0.7800\n",
            "Epoch 125/4000\n",
            "214/214 [==============================] - 0s 2ms/step - loss: 0.5524 - accuracy: 0.7492 - val_loss: 0.5115 - val_accuracy: 0.7786\n",
            "Epoch 126/4000\n",
            "214/214 [==============================] - 0s 2ms/step - loss: 0.5526 - accuracy: 0.7477 - val_loss: 0.5099 - val_accuracy: 0.7762\n",
            "Epoch 127/4000\n",
            "214/214 [==============================] - 0s 2ms/step - loss: 0.5525 - accuracy: 0.7476 - val_loss: 0.5101 - val_accuracy: 0.7762\n",
            "Epoch 128/4000\n",
            "214/214 [==============================] - 0s 2ms/step - loss: 0.5525 - accuracy: 0.7455 - val_loss: 0.5112 - val_accuracy: 0.7803\n",
            "Epoch 129/4000\n",
            "214/214 [==============================] - 0s 2ms/step - loss: 0.5525 - accuracy: 0.7492 - val_loss: 0.5096 - val_accuracy: 0.7828\n",
            "Epoch 130/4000\n",
            "214/214 [==============================] - 0s 2ms/step - loss: 0.5524 - accuracy: 0.7488 - val_loss: 0.5092 - val_accuracy: 0.7807\n",
            "Epoch 131/4000\n",
            "214/214 [==============================] - 0s 2ms/step - loss: 0.5524 - accuracy: 0.7457 - val_loss: 0.5106 - val_accuracy: 0.7883\n",
            "Epoch 132/4000\n",
            "214/214 [==============================] - 0s 2ms/step - loss: 0.5524 - accuracy: 0.7490 - val_loss: 0.5111 - val_accuracy: 0.7872\n",
            "Epoch 133/4000\n",
            "214/214 [==============================] - 0s 2ms/step - loss: 0.5524 - accuracy: 0.7493 - val_loss: 0.5097 - val_accuracy: 0.7883\n",
            "Epoch 134/4000\n",
            "214/214 [==============================] - 0s 2ms/step - loss: 0.5524 - accuracy: 0.7471 - val_loss: 0.5087 - val_accuracy: 0.7776\n",
            "Epoch 135/4000\n",
            "214/214 [==============================] - 0s 1ms/step - loss: 0.5523 - accuracy: 0.7452 - val_loss: 0.5106 - val_accuracy: 0.7866\n",
            "Epoch 136/4000\n",
            "214/214 [==============================] - 0s 2ms/step - loss: 0.5523 - accuracy: 0.7473 - val_loss: 0.5103 - val_accuracy: 0.7890\n",
            "Epoch 137/4000\n",
            "214/214 [==============================] - 0s 1ms/step - loss: 0.5522 - accuracy: 0.7483 - val_loss: 0.5107 - val_accuracy: 0.7886\n",
            "Epoch 138/4000\n",
            "214/214 [==============================] - 0s 2ms/step - loss: 0.5521 - accuracy: 0.7488 - val_loss: 0.5103 - val_accuracy: 0.7762\n",
            "Epoch 139/4000\n",
            "214/214 [==============================] - 0s 2ms/step - loss: 0.5523 - accuracy: 0.7474 - val_loss: 0.5092 - val_accuracy: 0.7772\n",
            "Epoch 140/4000\n",
            "214/214 [==============================] - 0s 2ms/step - loss: 0.5522 - accuracy: 0.7492 - val_loss: 0.5103 - val_accuracy: 0.7886\n",
            "Epoch 141/4000\n",
            "214/214 [==============================] - 0s 2ms/step - loss: 0.5522 - accuracy: 0.7486 - val_loss: 0.5096 - val_accuracy: 0.7886\n",
            "Epoch 142/4000\n",
            "214/214 [==============================] - 0s 2ms/step - loss: 0.5520 - accuracy: 0.7476 - val_loss: 0.5087 - val_accuracy: 0.7821\n",
            "Epoch 143/4000\n",
            "214/214 [==============================] - 0s 2ms/step - loss: 0.5519 - accuracy: 0.7441 - val_loss: 0.5119 - val_accuracy: 0.7866\n",
            "Epoch 144/4000\n",
            "214/214 [==============================] - 0s 1ms/step - loss: 0.5522 - accuracy: 0.7530 - val_loss: 0.5098 - val_accuracy: 0.7800\n",
            "Epoch 145/4000\n",
            "214/214 [==============================] - 0s 1ms/step - loss: 0.5521 - accuracy: 0.7488 - val_loss: 0.5088 - val_accuracy: 0.7741\n",
            "Epoch 146/4000\n",
            "214/214 [==============================] - 0s 2ms/step - loss: 0.5520 - accuracy: 0.7454 - val_loss: 0.5101 - val_accuracy: 0.7893\n",
            "Epoch 147/4000\n",
            "214/214 [==============================] - 0s 2ms/step - loss: 0.5520 - accuracy: 0.7498 - val_loss: 0.5088 - val_accuracy: 0.7783\n",
            "Epoch 148/4000\n",
            "214/214 [==============================] - 0s 1ms/step - loss: 0.5520 - accuracy: 0.7488 - val_loss: 0.5095 - val_accuracy: 0.7807\n",
            "Epoch 149/4000\n",
            "214/214 [==============================] - 0s 2ms/step - loss: 0.5519 - accuracy: 0.7463 - val_loss: 0.5101 - val_accuracy: 0.7879\n",
            "Epoch 150/4000\n",
            "184/214 [========================>.....] - ETA: 0s - loss: 0.5544 - accuracy: 0.7476"
          ]
        }
      ]
    },
    {
      "cell_type": "code",
      "source": [
        "#visualisation\n",
        "plt.plot(trained_model_3.history['loss'],color='red',label='Training Loss')\n",
        "plt.plot(trained_model_3.history['val_loss'],color='blue',label='Testing Loss')\n",
        "plt.legend()\n",
        "plt.show()"
      ],
      "metadata": {
        "id": "a-UoQ5lbTHBn"
      },
      "execution_count": null,
      "outputs": []
    },
    {
      "cell_type": "code",
      "source": [
        "plt.plot(trained_model_3.history['accuracy'],color='red',label='Training Loss')\n",
        "plt.plot(trained_model_3.history['val_accuracy'],color='blue',label='Testing Loss')\n",
        "plt.legend()\n",
        "plt.show()"
      ],
      "metadata": {
        "id": "LzioXu50VKNf"
      },
      "execution_count": null,
      "outputs": []
    },
    {
      "cell_type": "code",
      "source": [
        "#find prediction\n",
        "y_pred3=model2.predict(x_test_ros).round(2)\n",
        "y_pred3"
      ],
      "metadata": {
        "id": "Xrv-RtU-VPrH"
      },
      "execution_count": null,
      "outputs": []
    },
    {
      "cell_type": "code",
      "source": [
        "y_pred3=np.where(y_pred3>=0.5,1,0)\n",
        "y_pred3"
      ],
      "metadata": {
        "id": "iy62q-uMVXWN"
      },
      "execution_count": null,
      "outputs": []
    },
    {
      "cell_type": "code",
      "source": [
        "print(classification_report(y_test_ros,y_pred3))\n",
        "print(confusion_matrix(y_test_ros,y_pred3))"
      ],
      "metadata": {
        "id": "xcamXHa-VdMK"
      },
      "execution_count": null,
      "outputs": []
    },
    {
      "cell_type": "markdown",
      "source": [
        "As we can see accuracy of the model after applying Random Over Sampler is 79% but after applying Regularization that is Lasso and Ridge, accuracy of the model is 78%."
      ],
      "metadata": {
        "id": "WICa7IozXNnw"
      }
    }
  ]
}